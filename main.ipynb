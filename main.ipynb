{
 "cells": [
  {
   "cell_type": "code",
   "execution_count": 1,
   "metadata": {},
   "outputs": [],
   "source": [
    "from sumo_deeprl import SumoDeepRl\n",
    "import os\n",
    "import traci\n",
    "from stable_baselines3.dqn.dqn import DQN"
   ]
  },
  {
   "cell_type": "markdown",
   "metadata": {},
   "source": [
    "### Init Sumo-DeepRl class"
   ]
  },
  {
   "cell_type": "code",
   "execution_count": 2,
   "metadata": {},
   "outputs": [],
   "source": [
    "junction = 'saint_paul'\n",
    "#reward = 'average-speed'\n",
    "#reward = 'pressure'\n",
    "reward = 'queue'\n",
    "#reward=\"diff-waiting-time\"\n",
    "sim_time='1.0hour'\n",
    "time = 1*3600\n",
    "vphs = [1000, 2000, 3000, 3500, 4000, 4500, 5000]"
   ]
  },
  {
   "cell_type": "code",
   "execution_count": 3,
   "metadata": {},
   "outputs": [],
   "source": [
    "sumo = SumoDeepRl(junction_name=junction)"
   ]
  },
  {
   "cell_type": "markdown",
   "metadata": {},
   "source": [
    "### Generate Trips (optional)"
   ]
  },
  {
   "cell_type": "code",
   "execution_count": null,
   "metadata": {},
   "outputs": [],
   "source": [
    "route_details = {'n': ['-E1', 2], \n",
    "                 's': ['-E3', 3],\n",
    "                 'e': ['E0', 4],\n",
    "                 'w': ['-E2', 3]}\n",
    "route_details = {'n': ['-E2', 6.5], \n",
    "                 's': ['-E0', 7],\n",
    "                 'e': ['-E3', 5],\n",
    "                 'w': ['-E1', 4.5]}\n",
    "#standard_time = [66, 71, 45, 50]\n",
    "for cars in vphs:\n",
    "  sumo.create_routes(route_details=route_details, time=time, total_cars=cars)"
   ]
  },
  {
   "cell_type": "markdown",
   "metadata": {},
   "source": [
    "### Simulation"
   ]
  },
  {
   "cell_type": "code",
   "execution_count": null,
   "metadata": {},
   "outputs": [],
   "source": [
    "#sumo.simulation(sim_time=sim_time,route_file='5000.rou.xml', useGui=True)\n",
    "sumo.analyze_fixed(sim_time=sim_time,vphs=vphs, useGui=False)"
   ]
  },
  {
   "cell_type": "code",
   "execution_count": null,
   "metadata": {},
   "outputs": [],
   "source": [
    "traci.close()"
   ]
  },
  {
   "cell_type": "markdown",
   "metadata": {},
   "source": [
    "### Model"
   ]
  },
  {
   "cell_type": "code",
   "execution_count": 4,
   "metadata": {},
   "outputs": [
    {
     "name": "stdout",
     "output_type": "stream",
     "text": [
      " Retrying in 1 seconds\n"
     ]
    },
    {
     "name": "stderr",
     "output_type": "stream",
     "text": [
      "Warning: Could not set locale to 'C'.\n"
     ]
    },
    {
     "name": "stdout",
     "output_type": "stream",
     "text": [
      "Step #0.00 (0ms ?*RT. ?UPS, TraCI: 3ms, vehicles TOT 0 ACT 0 BUF 0)                      \n"
     ]
    }
   ],
   "source": [
    "\"\"\"\n",
    "reward_fns = {\n",
    "  \"diff-waiting-time\": _diff_waiting_time_reward, # sum waiting time(t) - sum waiting time(t+1)\n",
    "  \"average-speed\": _average_speed_reward, # average speed of every car\n",
    "  \"queue\": _queue_reward, # -1 * total number of halting cars\n",
    "  \"pressure\": _pressure_reward, # Returns the pressure (#veh leaving - #veh approaching) of the intersection.\n",
    "}\n",
    "\"\"\"\n",
    "\n",
    "train_num_veh = '4000'\n",
    "\n",
    "env = sumo.create_environment(sim_time=sim_time,route_file=f'{train_num_veh}.rou.xml', num_seconds=7500,yellow_time=5, reward_fn=reward)"
   ]
  },
  {
   "cell_type": "code",
   "execution_count": null,
   "metadata": {},
   "outputs": [],
   "source": [
    "model = DQN(\n",
    "  env=env,\n",
    "  policy=\"MlpPolicy\",\n",
    "  learning_starts=0,\n",
    "  train_freq=1,\n",
    "  exploration_initial_eps=0.05,\n",
    "  exploration_final_eps=0.01,\n",
    "  verbose=1\n",
    ")"
   ]
  },
  {
   "cell_type": "code",
   "execution_count": null,
   "metadata": {},
   "outputs": [],
   "source": [
    "total_timesteps = 50000\n",
    "model.learn(total_timesteps=total_timesteps, reset_num_timesteps=False)\n",
    "\n",
    "\n",
    "out_dir = f\"{junction}/{sim_time}/model/{reward}\"\n",
    "if not os.path.exists(out_dir):\n",
    "  os.makedirs(out_dir)\n",
    "fullname = os.path.join(out_dir, train_num_veh)   \n",
    "model.save(fullname)\n",
    "env.close()"
   ]
  },
  {
   "cell_type": "markdown",
   "metadata": {},
   "source": [
    "### Result from model"
   ]
  },
  {
   "cell_type": "code",
   "execution_count": 5,
   "metadata": {},
   "outputs": [
    {
     "name": "stdout",
     "output_type": "stream",
     "text": [
      "Wrapping the env with a `Monitor` wrapper\n",
      "Wrapping the env in a DummyVecEnv.\n"
     ]
    }
   ],
   "source": [
    "train_model = DQN.load(f'{junction}/{sim_time}/model/{reward}/{train_num_veh}.zip', env=env)"
   ]
  },
  {
   "cell_type": "code",
   "execution_count": 6,
   "metadata": {},
   "outputs": [
    {
     "name": "stdout",
     "output_type": "stream",
     "text": [
      " Retrying in 1 seconds\n"
     ]
    },
    {
     "name": "stderr",
     "output_type": "stream",
     "text": [
      "Warning: Could not set locale to 'C'.\n"
     ]
    },
    {
     "name": "stdout",
     "output_type": "stream",
     "text": [
      "Step #0.00 (0ms ?*RT. ?UPS, TraCI: 4ms, vehicles TOT 0 ACT 0 BUF 0)                      \n",
      " Retrying in 1 seconds\n"
     ]
    },
    {
     "name": "stderr",
     "output_type": "stream",
     "text": [
      "Warning: Could not set locale to 'C'.\n"
     ]
    },
    {
     "name": "stdout",
     "output_type": "stream",
     "text": [
      "Step #1000.00 (1ms ~= 1000.00*RT, ~202000.00UPS, TraCI: 0ms, vehicles TOT 283 ACT 202 BUF 1000 cars: waiting time 3832312.0, clear time: 10002.0\n",
      "Step #10002.00 (1ms ~= 1000.00*RT, ~461000.00UPS, TraCI: 104ms, vehicles TOT 1005 ACT 461 \n",
      " Retrying in 1 seconds\n"
     ]
    },
    {
     "name": "stderr",
     "output_type": "stream",
     "text": [
      "Warning: Could not set locale to 'C'.\n"
     ]
    },
    {
     "name": "stdout",
     "output_type": "stream",
     "text": [
      "Step #0.00 (0ms ?*RT. ?UPS, TraCI: 7ms, vehicles TOT 0 ACT 0 BUF 0)                      \n",
      " Retrying in 1 seconds\n"
     ]
    },
    {
     "name": "stderr",
     "output_type": "stream",
     "text": [
      "Warning: Could not set locale to 'C'.\n"
     ]
    },
    {
     "name": "stdout",
     "output_type": "stream",
     "text": [
      "Step #10002.00 (2ms ~= 500.00*RT, ~491500.00UPS, TraCI: 220ms, vehicles TOT 2003 ACT 983 B\n",
      "2000 cars: waiting time 8132222.0, clear time: 10002.0\n",
      " Retrying in 1 seconds\n"
     ]
    },
    {
     "name": "stderr",
     "output_type": "stream",
     "text": [
      "Warning: Could not set locale to 'C'.\n"
     ]
    },
    {
     "name": "stdout",
     "output_type": "stream",
     "text": [
      "Step #0.00 (0ms ?*RT. ?UPS, TraCI: 6ms, vehicles TOT 0 ACT 0 BUF 0)                      \n",
      " Retrying in 1 seconds\n"
     ]
    },
    {
     "name": "stderr",
     "output_type": "stream",
     "text": [
      "Warning: Could not set locale to 'C'.\n"
     ]
    },
    {
     "name": "stdout",
     "output_type": "stream",
     "text": [
      "Step #10002.00 (3ms ~= 333.33*RT, ~520000.00UPS, TraCI: 351ms, vehicles TOT 2935 ACT 1560 \n",
      "3000 cars: waiting time 12595682.0, clear time: 10002.0\n",
      " Retrying in 1 seconds\n"
     ]
    },
    {
     "name": "stderr",
     "output_type": "stream",
     "text": [
      "Warning: Could not set locale to 'C'.\n"
     ]
    },
    {
     "name": "stdout",
     "output_type": "stream",
     "text": [
      "Step #0.00 (0ms ?*RT. ?UPS, TraCI: 5ms, vehicles TOT 0 ACT 0 BUF 0)                      \n",
      " Retrying in 1 seconds\n"
     ]
    },
    {
     "name": "stderr",
     "output_type": "stream",
     "text": [
      "Warning: Could not set locale to 'C'.\n",
      "Warning: Vehicle 'flow_ew.157' performs emergency braking on lane '-E3_0' with decel=9.00, wished=4.50, severity=1.00, time=3144.00.\n"
     ]
    },
    {
     "name": "stdout",
     "output_type": "stream",
     "text": [
      "Step #10002.00 (2ms ~= 500.00*RT, ~792500.00UPS, TraCI: 358ms, vehicles TOT 3317 ACT 1585 \n",
      "3500 cars: waiting time 13383073.0, clear time: 10002.0\n",
      " Retrying in 1 seconds\n"
     ]
    },
    {
     "name": "stderr",
     "output_type": "stream",
     "text": [
      "Warning: Could not set locale to 'C'.\n"
     ]
    },
    {
     "name": "stdout",
     "output_type": "stream",
     "text": [
      "Step #0.00 (0ms ?*RT. ?UPS, TraCI: 5ms, vehicles TOT 0 ACT 0 BUF 0)                      \n",
      " Retrying in 1 seconds\n"
     ]
    },
    {
     "name": "stderr",
     "output_type": "stream",
     "text": [
      "Warning: Could not set locale to 'C'.\n"
     ]
    },
    {
     "name": "stdout",
     "output_type": "stream",
     "text": [
      "Step #10002.00 (3ms ~= 333.33*RT, ~642000.00UPS, TraCI: 426ms, vehicles TOT 3581 ACT 1926 \n",
      "4000 cars: waiting time 15760819.0, clear time: 10002.0\n",
      " Retrying in 1 seconds\n"
     ]
    },
    {
     "name": "stderr",
     "output_type": "stream",
     "text": [
      "Warning: Could not set locale to 'C'.\n"
     ]
    },
    {
     "name": "stdout",
     "output_type": "stream",
     "text": [
      "Step #0.00 (0ms ?*RT. ?UPS, TraCI: 5ms, vehicles TOT 0 ACT 0 BUF 0)                      \n",
      " Retrying in 1 seconds\n"
     ]
    },
    {
     "name": "stderr",
     "output_type": "stream",
     "text": [
      "Warning: Could not set locale to 'C'.\n",
      "Warning: Vehicle 'flow_ew.128' performs emergency braking on lane '-E3_1' with decel=9.00, wished=4.50, severity=1.00, time=2621.00.\n"
     ]
    },
    {
     "name": "stdout",
     "output_type": "stream",
     "text": [
      "Step #2600.00 (3ms ~= 333.33*RT, ~612666.67UPS, TraCI: 0ms, vehicles TOT 3100 ACT 1838 BUF\r"
     ]
    },
    {
     "name": "stderr",
     "output_type": "stream",
     "text": [
      "Warning: Vehicle 'flow_ew.141' performs emergency braking on lane ':J0_6_0' with decel=9.00, wished=4.50, severity=1.00, time=2697.00.\n"
     ]
    },
    {
     "name": "stdout",
     "output_type": "stream",
     "text": [
      "Step #2900.00 (3ms ~= 333.33*RT, ~615666.67UPS, TraCI: 0ms, vehicles TOT 3334 ACT 1847 BUF\r"
     ]
    },
    {
     "name": "stderr",
     "output_type": "stream",
     "text": [
      "Warning: Vehicle 'flow_ew.193' performs emergency braking on lane ':J0_6_0' with decel=9.00, wished=4.50, severity=1.00, time=2996.00.\n"
     ]
    },
    {
     "name": "stdout",
     "output_type": "stream",
     "text": [
      "Step #10002.00 (3ms ~= 333.33*RT, ~661000.00UPS, TraCI: 443ms, vehicles TOT 3899 ACT 1983 \n",
      "4500 cars: waiting time 16367659.0, clear time: 10002.0\n",
      " Retrying in 1 seconds\n"
     ]
    },
    {
     "name": "stderr",
     "output_type": "stream",
     "text": [
      "Warning: Could not set locale to 'C'.\n"
     ]
    },
    {
     "name": "stdout",
     "output_type": "stream",
     "text": [
      "Step #0.00 (0ms ?*RT. ?UPS, TraCI: 6ms, vehicles TOT 0 ACT 0 BUF 0)                      \n",
      " Retrying in 1 seconds\n"
     ]
    },
    {
     "name": "stderr",
     "output_type": "stream",
     "text": [
      "Warning: Could not set locale to 'C'.\n",
      "Warning: Vehicle 'flow_ew.184' performs emergency braking on lane ':J0_6_1' with decel=9.00, wished=4.50, severity=1.00, time=3125.00.\n"
     ]
    },
    {
     "name": "stdout",
     "output_type": "stream",
     "text": [
      "Step #10002.00 (3ms ~= 333.33*RT, ~638000.00UPS, TraCI: 431ms, vehicles TOT 4158 ACT 1914 \n",
      "5000 cars: waiting time 16042734.0, clear time: 10002.0\n"
     ]
    },
    {
     "ename": "ValueError",
     "evalue": "Length of values (7) does not match length of index (5)",
     "output_type": "error",
     "traceback": [
      "\u001b[0;31m---------------------------------------------------------------------------\u001b[0m",
      "\u001b[0;31mValueError\u001b[0m                                Traceback (most recent call last)",
      "Cell \u001b[0;32mIn[6], line 2\u001b[0m\n\u001b[1;32m      1\u001b[0m \u001b[38;5;66;03m#sumo.predict(sim_time=sim_time,route_file='4000.rou.xml', model=train_model, useGui=True, yellow_time=5)\u001b[39;00m\n\u001b[0;32m----> 2\u001b[0m \u001b[43msumo\u001b[49m\u001b[38;5;241;43m.\u001b[39;49m\u001b[43manalyze_predict\u001b[49m\u001b[43m(\u001b[49m\u001b[43mmodel\u001b[49m\u001b[38;5;241;43m=\u001b[39;49m\u001b[43mtrain_model\u001b[49m\u001b[43m,\u001b[49m\u001b[43m \u001b[49m\u001b[43msim_time\u001b[49m\u001b[38;5;241;43m=\u001b[39;49m\u001b[43msim_time\u001b[49m\u001b[43m,\u001b[49m\u001b[43m \u001b[49m\u001b[43mvphs\u001b[49m\u001b[38;5;241;43m=\u001b[39;49m\u001b[43mvphs\u001b[49m\u001b[43m,\u001b[49m\u001b[43m \u001b[49m\u001b[43mtrained_number_veh\u001b[49m\u001b[38;5;241;43m=\u001b[39;49m\u001b[43mtrain_num_veh\u001b[49m\u001b[43m,\u001b[49m\u001b[43m \u001b[49m\u001b[43mreward\u001b[49m\u001b[38;5;241;43m=\u001b[39;49m\u001b[43mreward\u001b[49m\u001b[43m,\u001b[49m\u001b[43myellow_time\u001b[49m\u001b[38;5;241;43m=\u001b[39;49m\u001b[38;5;241;43m5\u001b[39;49m\u001b[43m,\u001b[49m\u001b[43m \u001b[49m\u001b[43mnum_seconds\u001b[49m\u001b[38;5;241;43m=\u001b[39;49m\u001b[38;5;241;43m10000\u001b[39;49m\u001b[43m)\u001b[49m\n",
      "File \u001b[0;32m~/Documents/year4/capstone/deeprl-traffic-control/sumo_deeprl.py:192\u001b[0m, in \u001b[0;36mSumoDeepRl.analyze_predict\u001b[0;34m(self, model, sim_time, vphs, trained_number_veh, reward, useGui, yellow_time, num_seconds)\u001b[0m\n\u001b[1;32m    189\u001b[0m   clear_time\u001b[38;5;241m.\u001b[39mappend(total_clear_time)\n\u001b[1;32m    190\u001b[0m   \u001b[38;5;28mprint\u001b[39m(\u001b[38;5;124mf\u001b[39m\u001b[38;5;124m\"\u001b[39m\u001b[38;5;132;01m{\u001b[39;00mvph\u001b[38;5;132;01m}\u001b[39;00m\u001b[38;5;124m cars: waiting time \u001b[39m\u001b[38;5;132;01m{\u001b[39;00mtotal_waiting_time\u001b[38;5;132;01m}\u001b[39;00m\u001b[38;5;124m, clear time: \u001b[39m\u001b[38;5;132;01m{\u001b[39;00mtotal_clear_time\u001b[38;5;132;01m}\u001b[39;00m\u001b[38;5;124m\"\u001b[39m)\n\u001b[0;32m--> 192\u001b[0m \u001b[38;5;28;43mself\u001b[39;49m\u001b[38;5;241;43m.\u001b[39;49m\u001b[43msave_predict\u001b[49m\u001b[43m(\u001b[49m\u001b[43mvph\u001b[49m\u001b[38;5;241;43m=\u001b[39;49m\u001b[43mvphs\u001b[49m\u001b[43m,\u001b[49m\u001b[43m \u001b[49m\u001b[43mwaiting_times\u001b[49m\u001b[38;5;241;43m=\u001b[39;49m\u001b[43mwaiting_time\u001b[49m\u001b[43m,\u001b[49m\u001b[43m \u001b[49m\n\u001b[1;32m    193\u001b[0m \u001b[43m                  \u001b[49m\u001b[43mclear_simulations\u001b[49m\u001b[38;5;241;43m=\u001b[39;49m\u001b[43mclear_time\u001b[49m\u001b[43m,\u001b[49m\u001b[43m \u001b[49m\n\u001b[1;32m    194\u001b[0m \u001b[43m                  \u001b[49m\u001b[43mtrained_number_veh\u001b[49m\u001b[38;5;241;43m=\u001b[39;49m\u001b[43mtrained_number_veh\u001b[49m\u001b[43m,\u001b[49m\u001b[43m \u001b[49m\n\u001b[1;32m    195\u001b[0m \u001b[43m                  \u001b[49m\u001b[43mreward\u001b[49m\u001b[38;5;241;43m=\u001b[39;49m\u001b[43mreward\u001b[49m\u001b[43m,\u001b[49m\n\u001b[1;32m    196\u001b[0m \u001b[43m                  \u001b[49m\u001b[43mtrained_route_time\u001b[49m\u001b[38;5;241;43m=\u001b[39;49m\u001b[43msim_time\u001b[49m\u001b[43m)\u001b[49m\n",
      "File \u001b[0;32m~/Documents/year4/capstone/deeprl-traffic-control/sumo_deeprl.py:90\u001b[0m, in \u001b[0;36mSumoDeepRl.save_predict\u001b[0;34m(self, vph, waiting_times, clear_simulations, trained_number_veh, reward, trained_route_time)\u001b[0m\n\u001b[1;32m     88\u001b[0m wait_name \u001b[38;5;241m=\u001b[39m \u001b[38;5;124mf\u001b[39m\u001b[38;5;124m'\u001b[39m\u001b[38;5;132;01m{\u001b[39;00mreward\u001b[38;5;132;01m}\u001b[39;00m\u001b[38;5;124m_\u001b[39m\u001b[38;5;132;01m{\u001b[39;00mtrained_number_veh\u001b[38;5;132;01m}\u001b[39;00m\u001b[38;5;124m_waiting_predict\u001b[39m\u001b[38;5;124m'\u001b[39m\n\u001b[1;32m     89\u001b[0m clear_name \u001b[38;5;241m=\u001b[39m \u001b[38;5;124mf\u001b[39m\u001b[38;5;124m'\u001b[39m\u001b[38;5;132;01m{\u001b[39;00mreward\u001b[38;5;132;01m}\u001b[39;00m\u001b[38;5;124m_\u001b[39m\u001b[38;5;132;01m{\u001b[39;00mtrained_number_veh\u001b[38;5;132;01m}\u001b[39;00m\u001b[38;5;124m_clear_predict\u001b[39m\u001b[38;5;124m'\u001b[39m\n\u001b[0;32m---> 90\u001b[0m \u001b[43mdf\u001b[49m\u001b[43m[\u001b[49m\u001b[43mwait_name\u001b[49m\u001b[43m]\u001b[49m \u001b[38;5;241m=\u001b[39m waiting_times\n\u001b[1;32m     91\u001b[0m df[clear_name] \u001b[38;5;241m=\u001b[39m clear_simulations\n\u001b[1;32m     93\u001b[0m df\u001b[38;5;241m.\u001b[39mto_csv(\u001b[38;5;124mf\u001b[39m\u001b[38;5;124m'\u001b[39m\u001b[38;5;132;01m{\u001b[39;00mfile_path\u001b[38;5;132;01m}\u001b[39;00m\u001b[38;5;124m'\u001b[39m, index\u001b[38;5;241m=\u001b[39m\u001b[38;5;28;01mFalse\u001b[39;00m)\n",
      "File \u001b[0;32m/opt/homebrew/lib/python3.11/site-packages/pandas/core/frame.py:4299\u001b[0m, in \u001b[0;36mDataFrame.__setitem__\u001b[0;34m(self, key, value)\u001b[0m\n\u001b[1;32m   4296\u001b[0m     \u001b[38;5;28mself\u001b[39m\u001b[38;5;241m.\u001b[39m_setitem_array([key], value)\n\u001b[1;32m   4297\u001b[0m \u001b[38;5;28;01melse\u001b[39;00m:\n\u001b[1;32m   4298\u001b[0m     \u001b[38;5;66;03m# set column\u001b[39;00m\n\u001b[0;32m-> 4299\u001b[0m     \u001b[38;5;28;43mself\u001b[39;49m\u001b[38;5;241;43m.\u001b[39;49m\u001b[43m_set_item\u001b[49m\u001b[43m(\u001b[49m\u001b[43mkey\u001b[49m\u001b[43m,\u001b[49m\u001b[43m \u001b[49m\u001b[43mvalue\u001b[49m\u001b[43m)\u001b[49m\n",
      "File \u001b[0;32m/opt/homebrew/lib/python3.11/site-packages/pandas/core/frame.py:4512\u001b[0m, in \u001b[0;36mDataFrame._set_item\u001b[0;34m(self, key, value)\u001b[0m\n\u001b[1;32m   4502\u001b[0m \u001b[38;5;28;01mdef\u001b[39;00m \u001b[38;5;21m_set_item\u001b[39m(\u001b[38;5;28mself\u001b[39m, key, value) \u001b[38;5;241m-\u001b[39m\u001b[38;5;241m>\u001b[39m \u001b[38;5;28;01mNone\u001b[39;00m:\n\u001b[1;32m   4503\u001b[0m \u001b[38;5;250m    \u001b[39m\u001b[38;5;124;03m\"\"\"\u001b[39;00m\n\u001b[1;32m   4504\u001b[0m \u001b[38;5;124;03m    Add series to DataFrame in specified column.\u001b[39;00m\n\u001b[1;32m   4505\u001b[0m \n\u001b[0;32m   (...)\u001b[0m\n\u001b[1;32m   4510\u001b[0m \u001b[38;5;124;03m    ensure homogeneity.\u001b[39;00m\n\u001b[1;32m   4511\u001b[0m \u001b[38;5;124;03m    \"\"\"\u001b[39;00m\n\u001b[0;32m-> 4512\u001b[0m     value, refs \u001b[38;5;241m=\u001b[39m \u001b[38;5;28;43mself\u001b[39;49m\u001b[38;5;241;43m.\u001b[39;49m\u001b[43m_sanitize_column\u001b[49m\u001b[43m(\u001b[49m\u001b[43mvalue\u001b[49m\u001b[43m)\u001b[49m\n\u001b[1;32m   4514\u001b[0m     \u001b[38;5;28;01mif\u001b[39;00m (\n\u001b[1;32m   4515\u001b[0m         key \u001b[38;5;129;01min\u001b[39;00m \u001b[38;5;28mself\u001b[39m\u001b[38;5;241m.\u001b[39mcolumns\n\u001b[1;32m   4516\u001b[0m         \u001b[38;5;129;01mand\u001b[39;00m value\u001b[38;5;241m.\u001b[39mndim \u001b[38;5;241m==\u001b[39m \u001b[38;5;241m1\u001b[39m\n\u001b[1;32m   4517\u001b[0m         \u001b[38;5;129;01mand\u001b[39;00m \u001b[38;5;129;01mnot\u001b[39;00m \u001b[38;5;28misinstance\u001b[39m(value\u001b[38;5;241m.\u001b[39mdtype, ExtensionDtype)\n\u001b[1;32m   4518\u001b[0m     ):\n\u001b[1;32m   4519\u001b[0m         \u001b[38;5;66;03m# broadcast across multiple columns if necessary\u001b[39;00m\n\u001b[1;32m   4520\u001b[0m         \u001b[38;5;28;01mif\u001b[39;00m \u001b[38;5;129;01mnot\u001b[39;00m \u001b[38;5;28mself\u001b[39m\u001b[38;5;241m.\u001b[39mcolumns\u001b[38;5;241m.\u001b[39mis_unique \u001b[38;5;129;01mor\u001b[39;00m \u001b[38;5;28misinstance\u001b[39m(\u001b[38;5;28mself\u001b[39m\u001b[38;5;241m.\u001b[39mcolumns, MultiIndex):\n",
      "File \u001b[0;32m/opt/homebrew/lib/python3.11/site-packages/pandas/core/frame.py:5253\u001b[0m, in \u001b[0;36mDataFrame._sanitize_column\u001b[0;34m(self, value)\u001b[0m\n\u001b[1;32m   5250\u001b[0m     \u001b[38;5;28;01mreturn\u001b[39;00m _reindex_for_setitem(value, \u001b[38;5;28mself\u001b[39m\u001b[38;5;241m.\u001b[39mindex)\n\u001b[1;32m   5252\u001b[0m \u001b[38;5;28;01mif\u001b[39;00m is_list_like(value):\n\u001b[0;32m-> 5253\u001b[0m     \u001b[43mcom\u001b[49m\u001b[38;5;241;43m.\u001b[39;49m\u001b[43mrequire_length_match\u001b[49m\u001b[43m(\u001b[49m\u001b[43mvalue\u001b[49m\u001b[43m,\u001b[49m\u001b[43m \u001b[49m\u001b[38;5;28;43mself\u001b[39;49m\u001b[38;5;241;43m.\u001b[39;49m\u001b[43mindex\u001b[49m\u001b[43m)\u001b[49m\n\u001b[1;32m   5254\u001b[0m arr \u001b[38;5;241m=\u001b[39m sanitize_array(value, \u001b[38;5;28mself\u001b[39m\u001b[38;5;241m.\u001b[39mindex, copy\u001b[38;5;241m=\u001b[39m\u001b[38;5;28;01mTrue\u001b[39;00m, allow_2d\u001b[38;5;241m=\u001b[39m\u001b[38;5;28;01mTrue\u001b[39;00m)\n\u001b[1;32m   5255\u001b[0m \u001b[38;5;28;01mif\u001b[39;00m (\n\u001b[1;32m   5256\u001b[0m     \u001b[38;5;28misinstance\u001b[39m(value, Index)\n\u001b[1;32m   5257\u001b[0m     \u001b[38;5;129;01mand\u001b[39;00m value\u001b[38;5;241m.\u001b[39mdtype \u001b[38;5;241m==\u001b[39m \u001b[38;5;124m\"\u001b[39m\u001b[38;5;124mobject\u001b[39m\u001b[38;5;124m\"\u001b[39m\n\u001b[0;32m   (...)\u001b[0m\n\u001b[1;32m   5260\u001b[0m     \u001b[38;5;66;03m# TODO: Remove kludge in sanitize_array for string mode when enforcing\u001b[39;00m\n\u001b[1;32m   5261\u001b[0m     \u001b[38;5;66;03m# this deprecation\u001b[39;00m\n",
      "File \u001b[0;32m/opt/homebrew/lib/python3.11/site-packages/pandas/core/common.py:571\u001b[0m, in \u001b[0;36mrequire_length_match\u001b[0;34m(data, index)\u001b[0m\n\u001b[1;32m    567\u001b[0m \u001b[38;5;250m\u001b[39m\u001b[38;5;124;03m\"\"\"\u001b[39;00m\n\u001b[1;32m    568\u001b[0m \u001b[38;5;124;03mCheck the length of data matches the length of the index.\u001b[39;00m\n\u001b[1;32m    569\u001b[0m \u001b[38;5;124;03m\"\"\"\u001b[39;00m\n\u001b[1;32m    570\u001b[0m \u001b[38;5;28;01mif\u001b[39;00m \u001b[38;5;28mlen\u001b[39m(data) \u001b[38;5;241m!=\u001b[39m \u001b[38;5;28mlen\u001b[39m(index):\n\u001b[0;32m--> 571\u001b[0m     \u001b[38;5;28;01mraise\u001b[39;00m \u001b[38;5;167;01mValueError\u001b[39;00m(\n\u001b[1;32m    572\u001b[0m         \u001b[38;5;124m\"\u001b[39m\u001b[38;5;124mLength of values \u001b[39m\u001b[38;5;124m\"\u001b[39m\n\u001b[1;32m    573\u001b[0m         \u001b[38;5;124mf\u001b[39m\u001b[38;5;124m\"\u001b[39m\u001b[38;5;124m(\u001b[39m\u001b[38;5;132;01m{\u001b[39;00m\u001b[38;5;28mlen\u001b[39m(data)\u001b[38;5;132;01m}\u001b[39;00m\u001b[38;5;124m) \u001b[39m\u001b[38;5;124m\"\u001b[39m\n\u001b[1;32m    574\u001b[0m         \u001b[38;5;124m\"\u001b[39m\u001b[38;5;124mdoes not match length of index \u001b[39m\u001b[38;5;124m\"\u001b[39m\n\u001b[1;32m    575\u001b[0m         \u001b[38;5;124mf\u001b[39m\u001b[38;5;124m\"\u001b[39m\u001b[38;5;124m(\u001b[39m\u001b[38;5;132;01m{\u001b[39;00m\u001b[38;5;28mlen\u001b[39m(index)\u001b[38;5;132;01m}\u001b[39;00m\u001b[38;5;124m)\u001b[39m\u001b[38;5;124m\"\u001b[39m\n\u001b[1;32m    576\u001b[0m     )\n",
      "\u001b[0;31mValueError\u001b[0m: Length of values (7) does not match length of index (5)"
     ]
    }
   ],
   "source": [
    "#sumo.predict(sim_time=sim_time,route_file='4000.rou.xml', model=train_model, useGui=True, yellow_time=5)\n",
    "sumo.analyze_predict(model=train_model, sim_time=sim_time, vphs=vphs, trained_number_veh=train_num_veh, reward=reward,yellow_time=5, num_seconds=10000)"
   ]
  },
  {
   "cell_type": "markdown",
   "metadata": {},
   "source": [
    "## Saint Paul"
   ]
  },
  {
   "cell_type": "code",
   "execution_count": null,
   "metadata": {},
   "outputs": [],
   "source": [
    "junction = 'saint_paul'\n",
    "reward = 'diff-waiting-time'\n",
    "sim_time='1.0hour'\n",
    "vphs = [1000, 2000, 3000, 4000, 5000]"
   ]
  },
  {
   "cell_type": "code",
   "execution_count": null,
   "metadata": {},
   "outputs": [],
   "source": [
    "sumo = SumoDeepRl(junction_name=junction)"
   ]
  },
  {
   "cell_type": "code",
   "execution_count": null,
   "metadata": {},
   "outputs": [],
   "source": [
    "sumo.simulation(sim_time='1.0hour', route_file='1000.rou.xml', useGui=True)"
   ]
  },
  {
   "cell_type": "code",
   "execution_count": null,
   "metadata": {},
   "outputs": [],
   "source": [
    "sumo.analyze_fixed(sim_time='1.0hour',vphs=[1000, 2000, 3000, 4000, 5000], useGui=False)"
   ]
  },
  {
   "cell_type": "code",
   "execution_count": null,
   "metadata": {},
   "outputs": [],
   "source": [
    "env = sumo.create_environment(sim_time=sim_time,route_file='3000.rou.xml',num_seconds=15000,yellow_time=5, reward_fn=reward)"
   ]
  },
  {
   "cell_type": "code",
   "execution_count": null,
   "metadata": {},
   "outputs": [],
   "source": [
    "train_model = DQN.load(f'{junction}/1.0hour/model/{reward}/3000.zip', env=env)"
   ]
  },
  {
   "cell_type": "code",
   "execution_count": null,
   "metadata": {},
   "outputs": [],
   "source": [
    "sumo.predict(sim_time=sim_time,route_file='3000.rou.xml', model=train_model, useGui=True, yellow_time=5)"
   ]
  },
  {
   "cell_type": "code",
   "execution_count": null,
   "metadata": {},
   "outputs": [],
   "source": [
    "traci.close()"
   ]
  },
  {
   "cell_type": "code",
   "execution_count": null,
   "metadata": {},
   "outputs": [],
   "source": [
    "sumo.analyze_predict(model=train_model,\n",
    "                     sim_time=sim_time,\n",
    "                     vphs=vphs,\n",
    "                     trained_number_veh='3000',\n",
    "                     reward=reward,\n",
    "                     yellow_time=5)"
   ]
  },
  {
   "cell_type": "code",
   "execution_count": null,
   "metadata": {},
   "outputs": [],
   "source": [
    "traci.close()"
   ]
  },
  {
   "cell_type": "markdown",
   "metadata": {},
   "source": [
    "## Table"
   ]
  },
  {
   "cell_type": "code",
   "execution_count": null,
   "metadata": {},
   "outputs": [],
   "source": [
    "import matplotlib.pyplot as plt\n",
    "import pandas as pd\n",
    "\n",
    "df = pd.read_csv('./saint_paul_1hr.csv')\n",
    "\n",
    "plt.plot(df['vehicle per hour'], df['waiting_fixed']/df['vehicle per hour']/60, label = \"Fixed Phase\")\n",
    "plt.plot(df['vehicle per hour'], df['fuzzy_halting_waiting_time'] /df['vehicle per hour']/60, label = \"Fuzzy Logic\")\n",
    "plt.plot(df['vehicle per hour'], df['fuzzy_proportion_waiting_time'] /df['vehicle per hour']/60, label = \"Proportion Logic\")\n",
    "plt.xticks(df['vehicle per hour'])\n",
    "plt.xlabel('Number of vehicle')\n",
    "plt.ylabel('minutes')\n",
    "plt.title('Average Waiting Time Per Car')\n",
    "plt.grid()\n",
    "plt.legend()\n",
    "plt.show()"
   ]
  },
  {
   "cell_type": "code",
   "execution_count": null,
   "metadata": {},
   "outputs": [],
   "source": [
    "plt.plot(df['vehicle per hour'], df['clear_fixed'], label = \"Fixed Phase\")\n",
    "plt.plot(df['vehicle per hour'], df['fuzzy_halting_clear_time'], label = \"Fuzzy Logic\")\n",
    "plt.plot(df['vehicle per hour'], df['fuzzy_proportion_clear_time'], label = \"Proportion Logic\")\n",
    "plt.xticks(df['vehicle per hour'])\n",
    "plt.xlabel('Number of vehicle')\n",
    "plt.ylabel('Seconds')\n",
    "plt.title('Clear Time')\n",
    "plt.grid()\n",
    "plt.legend()\n",
    "plt.show()"
   ]
  },
  {
   "cell_type": "code",
   "execution_count": null,
   "metadata": {},
   "outputs": [],
   "source": [
    "plt.plot(df['vehicle per hour'], df['waiting_fixed']/df['vehicle per hour']/60, label = \"Fixed Phase\")\n",
    "plt.plot(df['vehicle per hour'], df['fuzzy_proportion_waiting_time'] /df['vehicle per hour']/60, label = \"Proportion Logic\")\n",
    "plt.xticks(df['vehicle per hour'])\n",
    "plt.xlabel('Number of vehicle')\n",
    "plt.ylabel('minutes')\n",
    "plt.title('Average Waiting Time Per Car')\n",
    "plt.grid()\n",
    "plt.legend()\n",
    "plt.show()"
   ]
  },
  {
   "cell_type": "code",
   "execution_count": null,
   "metadata": {},
   "outputs": [],
   "source": [
    "plt.plot(df['vehicle per hour'], df['clear_fixed'], label = \"Fixed Phase\")\n",
    "plt.plot(df['vehicle per hour'], df['fuzzy_proportion_clear_time'], label = \"Proportion Logic\")\n",
    "plt.xticks(df['vehicle per hour'])\n",
    "plt.xlabel('Number of vehicle')\n",
    "plt.ylabel('Seconds')\n",
    "plt.title('Clear Time')\n",
    "plt.grid()\n",
    "plt.legend()\n",
    "plt.show()"
   ]
  },
  {
   "cell_type": "code",
   "execution_count": null,
   "metadata": {},
   "outputs": [],
   "source": [
    "df = pd.read_csv('./saint_paul/1.0hour/result.csv')\n",
    "\n",
    "plt.plot(df['Vehicle Per Hour'], df['waiting_fixed']/df['Vehicle Per Hour']/60, label = \"Fixed Phase\")\n",
    "plt.plot(df['Vehicle Per Hour'], df['fuzzy_logic_num_halting_waiting']/df['Vehicle Per Hour']/60, label = \"Waiting time\")\n",
    "plt.plot(df['Vehicle Per Hour'], df['fuzzy_logic_proportion_waiting']/df['Vehicle Per Hour']/60, label = \"Queue\")\n",
    "plt.xticks(df['Vehicle Per Hour'])\n",
    "plt.xlabel('Number of vehicle')\n",
    "plt.ylabel('minutes')\n",
    "plt.title('Average Waiting Time Per Car')\n",
    "plt.grid()\n",
    "plt.legend()\n",
    "plt.show()"
   ]
  },
  {
   "cell_type": "code",
   "execution_count": null,
   "metadata": {},
   "outputs": [],
   "source": [
    "plt.plot(df['Vehicle Per Hour'], df['clear_fixed'], label = \"Fixed Phase\")\n",
    "plt.plot(df['Vehicle Per Hour'], df['queue_4000_clear_predict'], label = \"Queue\")\n",
    "plt.plot(df['Vehicle Per Hour'], df['diff-waiting-time_4000_clear_predict'], label = \"Waiting time\")\n",
    "plt.xticks(df['Vehicle Per Hour'])\n",
    "plt.xlabel('Number of vehicle')\n",
    "plt.ylabel('Minutes')\n",
    "plt.title('Clear Time in Each Simulation')\n",
    "plt.grid()\n",
    "plt.legend()\n",
    "plt.show()"
   ]
  },
  {
   "cell_type": "code",
   "execution_count": null,
   "metadata": {},
   "outputs": [],
   "source": [
    "plt.plot(df['Vehicle Per Hour'], df['waiting_fixed']/df['Vehicle Per Hour']/60, label = \"Fixed Phase\")\n",
    "plt.plot(df['Vehicle Per Hour'], df['diff-waiting-time_4000_waiting_predict']/df['Vehicle Per Hour']/60, label = \"Predicted Model reward as waiting time\")\n",
    "plt.xticks(df['Vehicle Per Hour'])\n",
    "plt.xlabel('Number of vehicle')\n",
    "plt.ylabel('Minutes')\n",
    "plt.title('Average Waiting Time for Each Car')\n",
    "plt.grid()\n",
    "plt.legend()\n",
    "plt.show()"
   ]
  },
  {
   "cell_type": "code",
   "execution_count": null,
   "metadata": {},
   "outputs": [],
   "source": [
    "sum(df['waiting_fixed']/df['Vehicle Per Hour']/60)/5, sum(df['diff-waiting-time_4000_waiting_predict']/df['Vehicle Per Hour']/60)/5"
   ]
  },
  {
   "cell_type": "code",
   "execution_count": null,
   "metadata": {},
   "outputs": [],
   "source": [
    "plt.plot(df['Vehicle Per Hour'], df['clear_fixed']/60, label = \"Fixed Phase\")\n",
    "plt.plot(df['Vehicle Per Hour'], df['diff-waiting-time_4000_clear_predict']/60, label = \"Predicted Model reward as waiting time\")\n",
    "plt.xticks(df['Vehicle Per Hour'])\n",
    "plt.xlabel('Number of vehicle')\n",
    "plt.ylabel('Minutes')\n",
    "plt.title('Clear Time for Each Simulation')\n",
    "plt.grid()\n",
    "plt.legend()\n",
    "plt.show()"
   ]
  },
  {
   "cell_type": "code",
   "execution_count": null,
   "metadata": {},
   "outputs": [],
   "source": [
    "sum(df['clear_fixed']/60)/5, sum(df['diff-waiting-time_4000_clear_predict']/60)/5"
   ]
  },
  {
   "cell_type": "code",
   "execution_count": null,
   "metadata": {},
   "outputs": [],
   "source": []
  }
 ],
 "metadata": {
  "kernelspec": {
   "display_name": "Python 3",
   "language": "python",
   "name": "python3"
  },
  "language_info": {
   "codemirror_mode": {
    "name": "ipython",
    "version": 3
   },
   "file_extension": ".py",
   "mimetype": "text/x-python",
   "name": "python",
   "nbconvert_exporter": "python",
   "pygments_lexer": "ipython3",
   "version": "3.11.7"
  }
 },
 "nbformat": 4,
 "nbformat_minor": 2
}
