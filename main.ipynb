{
 "cells": [
  {
   "cell_type": "code",
   "execution_count": 1,
   "metadata": {},
   "outputs": [],
   "source": [
    "from sumo_deeprl import SumoDeepRl\n",
    "import os\n",
    "import traci\n",
    "from stable_baselines3.dqn.dqn import DQN"
   ]
  },
  {
   "cell_type": "markdown",
   "metadata": {},
   "source": [
    "### Init Sumo-DeepRl class"
   ]
  },
  {
   "cell_type": "code",
   "execution_count": 2,
   "metadata": {},
   "outputs": [],
   "source": [
    "junction = 'saint_paul'\n",
    "# junction = 'regular junction'\n",
    "#reward = 'average-speed'\n",
    "#reward = 'pressure'\n",
    "reward = 'queue'\n",
    "#reward=\"diff-waiting-time\"\n",
    "sim_time='1.0hour'\n",
    "time = 1*3600\n",
    "vphs = [3000, 3500, 4000, 4500, 5000, 5500, 6000]"
   ]
  },
  {
   "cell_type": "code",
   "execution_count": 3,
   "metadata": {},
   "outputs": [],
   "source": [
    "sumo = SumoDeepRl(junction_name=junction)"
   ]
  },
  {
   "cell_type": "markdown",
   "metadata": {},
   "source": [
    "### Generate Trips (optional)"
   ]
  },
  {
   "cell_type": "code",
   "execution_count": 4,
   "metadata": {},
   "outputs": [
    {
     "name": "stdout",
     "output_type": "stream",
     "text": [
      "Create Success\n",
      "Create Success\n",
      "Create Success\n",
      "Create Success\n",
      "Create Success\n",
      "Create Success\n",
      "Create Success\n"
     ]
    }
   ],
   "source": [
    "route_details = {'n': ['-E2', 66], \n",
    "                 's': ['-E0', 70],\n",
    "                 'e': ['-E3', 50],\n",
    "                 'w': ['-E1', 45]}\n",
    "\n",
    "for cars in vphs:\n",
    "  sumo.create_routes(route_details=route_details, time=time, total_cars=cars)"
   ]
  },
  {
   "cell_type": "markdown",
   "metadata": {},
   "source": [
    "### Simulation"
   ]
  },
  {
   "cell_type": "code",
   "execution_count": null,
   "metadata": {},
   "outputs": [],
   "source": [
    "#sumo.simulation(sim_time=sim_time,route_file='5000.rou.xml', useGui=True)\n",
    "sumo.analyze_fixed(sim_time=sim_time,vphs=vphs, useGui=False)"
   ]
  },
  {
   "cell_type": "code",
   "execution_count": null,
   "metadata": {},
   "outputs": [],
   "source": [
    "traci.close()"
   ]
  },
  {
   "cell_type": "markdown",
   "metadata": {},
   "source": [
    "### Model"
   ]
  },
  {
   "cell_type": "code",
   "execution_count": null,
   "metadata": {},
   "outputs": [],
   "source": [
    "\"\"\"\n",
    "reward_fns = {\n",
    "  \"diff-waiting-time\": _diff_waiting_time_reward, # sum waiting time(t) - sum waiting time(t+1)\n",
    "  \"average-speed\": _average_speed_reward, # average speed of every car\n",
    "  \"queue\": _queue_reward, # -1 * total number of halting cars\n",
    "  \"pressure\": _pressure_reward, # Returns the pressure (#veh leaving - #veh approaching) of the intersection.\n",
    "}\n",
    "\"\"\"\n",
    "\n",
    "train_num_veh = '4000'\n",
    "\n",
    "env = sumo.create_environment(sim_time=sim_time,route_file=f'{train_num_veh}.rou.xml', num_seconds=7500,yellow_time=5, reward_fn=reward)"
   ]
  },
  {
   "cell_type": "code",
   "execution_count": null,
   "metadata": {},
   "outputs": [],
   "source": [
    "model = DQN(\n",
    "  env=env,\n",
    "  policy=\"MlpPolicy\",\n",
    "  learning_starts=0,\n",
    "  train_freq=1,\n",
    "  exploration_initial_eps=0.05,\n",
    "  exploration_final_eps=0.01,\n",
    "  verbose=1\n",
    ")"
   ]
  },
  {
   "cell_type": "code",
   "execution_count": null,
   "metadata": {},
   "outputs": [],
   "source": [
    "total_timesteps = 50000\n",
    "model.learn(total_timesteps=total_timesteps, reset_num_timesteps=False)\n",
    "\n",
    "\n",
    "out_dir = f\"{junction}/{sim_time}/model/{reward}\"\n",
    "if not os.path.exists(out_dir):\n",
    "  os.makedirs(out_dir)\n",
    "fullname = os.path.join(out_dir, train_num_veh)   \n",
    "model.save(fullname)\n",
    "env.close()"
   ]
  },
  {
   "cell_type": "markdown",
   "metadata": {},
   "source": [
    "### Result from model"
   ]
  },
  {
   "cell_type": "code",
   "execution_count": null,
   "metadata": {},
   "outputs": [],
   "source": [
    "train_model = DQN.load(f'{junction}/{sim_time}/model/{reward}/{train_num_veh}.zip', env=env)"
   ]
  },
  {
   "cell_type": "code",
   "execution_count": null,
   "metadata": {},
   "outputs": [],
   "source": [
    "#sumo.predict(sim_time=sim_time,route_file='4000.rou.xml', model=train_model, useGui=True, yellow_time=5)\n",
    "sumo.analyze_predict(model=train_model, sim_time=sim_time, vphs=vphs, trained_number_veh=train_num_veh, reward=reward,yellow_time=5, num_seconds=10000)"
   ]
  },
  {
   "cell_type": "markdown",
   "metadata": {},
   "source": [
    "## Saint Paul"
   ]
  },
  {
   "cell_type": "code",
   "execution_count": null,
   "metadata": {},
   "outputs": [],
   "source": [
    "junction = 'saint_paul'\n",
    "reward = 'diff-waiting-time'\n",
    "sim_time='1.0hour'\n",
    "vphs = [1000, 2000, 3000, 4000, 5000]"
   ]
  },
  {
   "cell_type": "code",
   "execution_count": null,
   "metadata": {},
   "outputs": [],
   "source": [
    "sumo = SumoDeepRl(junction_name=junction)"
   ]
  },
  {
   "cell_type": "code",
   "execution_count": null,
   "metadata": {},
   "outputs": [],
   "source": [
    "sumo.simulation(sim_time='1.0hour', route_file='1000.rou.xml', useGui=True)"
   ]
  },
  {
   "cell_type": "code",
   "execution_count": null,
   "metadata": {},
   "outputs": [],
   "source": [
    "sumo.analyze_fixed(sim_time='1.0hour',vphs=[1000, 2000, 3000, 4000, 5000], useGui=False)"
   ]
  },
  {
   "cell_type": "code",
   "execution_count": null,
   "metadata": {},
   "outputs": [],
   "source": [
    "env = sumo.create_environment(sim_time=sim_time,route_file='3000.rou.xml',num_seconds=15000,yellow_time=5, reward_fn=reward)"
   ]
  },
  {
   "cell_type": "code",
   "execution_count": null,
   "metadata": {},
   "outputs": [],
   "source": [
    "train_model = DQN.load(f'{junction}/1.0hour/model/{reward}/3000.zip', env=env)"
   ]
  },
  {
   "cell_type": "code",
   "execution_count": null,
   "metadata": {},
   "outputs": [],
   "source": [
    "sumo.predict(sim_time=sim_time,route_file='3000.rou.xml', model=train_model, useGui=True, yellow_time=5)"
   ]
  },
  {
   "cell_type": "code",
   "execution_count": null,
   "metadata": {},
   "outputs": [],
   "source": [
    "traci.close()"
   ]
  },
  {
   "cell_type": "code",
   "execution_count": null,
   "metadata": {},
   "outputs": [],
   "source": [
    "sumo.analyze_predict(model=train_model,\n",
    "                     sim_time=sim_time,\n",
    "                     vphs=vphs,\n",
    "                     trained_number_veh='3000',\n",
    "                     reward=reward,\n",
    "                     yellow_time=5)"
   ]
  },
  {
   "cell_type": "code",
   "execution_count": null,
   "metadata": {},
   "outputs": [],
   "source": [
    "traci.close()"
   ]
  },
  {
   "cell_type": "markdown",
   "metadata": {},
   "source": [
    "## Table"
   ]
  },
  {
   "cell_type": "code",
   "execution_count": null,
   "metadata": {},
   "outputs": [],
   "source": [
    "import matplotlib.pyplot as plt\n",
    "import pandas as pd\n",
    "\n",
    "df = pd.read_csv('./saint_paul_1hr.csv')\n",
    "\n",
    "plt.plot(df['vehicle per hour'], df['waiting_fixed']/df['vehicle per hour']/60, label = \"Fixed Phase\")\n",
    "plt.plot(df['vehicle per hour'], df['fuzzy_halting_waiting_time'] /df['vehicle per hour']/60, label = \"Fuzzy Logic\")\n",
    "plt.plot(df['vehicle per hour'], df['fuzzy_proportion_waiting_time'] /df['vehicle per hour']/60, label = \"Proportion Logic\")\n",
    "plt.xticks(df['vehicle per hour'])\n",
    "plt.xlabel('Number of vehicle')\n",
    "plt.ylabel('minutes')\n",
    "plt.title('Average Waiting Time Per Car')\n",
    "plt.grid()\n",
    "plt.legend()\n",
    "plt.show()"
   ]
  },
  {
   "cell_type": "code",
   "execution_count": null,
   "metadata": {},
   "outputs": [],
   "source": [
    "plt.plot(df['vehicle per hour'], df['clear_fixed'], label = \"Fixed Phase\")\n",
    "plt.plot(df['vehicle per hour'], df['fuzzy_halting_clear_time'], label = \"Fuzzy Logic\")\n",
    "plt.plot(df['vehicle per hour'], df['fuzzy_proportion_clear_time'], label = \"Proportion Logic\")\n",
    "plt.xticks(df['vehicle per hour'])\n",
    "plt.xlabel('Number of vehicle')\n",
    "plt.ylabel('Seconds')\n",
    "plt.title('Clear Time')\n",
    "plt.grid()\n",
    "plt.legend()\n",
    "plt.show()"
   ]
  },
  {
   "cell_type": "code",
   "execution_count": null,
   "metadata": {},
   "outputs": [],
   "source": [
    "plt.plot(df['vehicle per hour'], df['waiting_fixed']/df['vehicle per hour']/60, label = \"Fixed Phase\")\n",
    "plt.plot(df['vehicle per hour'], df['fuzzy_proportion_waiting_time'] /df['vehicle per hour']/60, label = \"Proportion Logic\")\n",
    "plt.xticks(df['vehicle per hour'])\n",
    "plt.xlabel('Number of vehicle')\n",
    "plt.ylabel('minutes')\n",
    "plt.title('Average Waiting Time Per Car')\n",
    "plt.grid()\n",
    "plt.legend()\n",
    "plt.show()"
   ]
  },
  {
   "cell_type": "code",
   "execution_count": null,
   "metadata": {},
   "outputs": [],
   "source": [
    "plt.plot(df['vehicle per hour'], df['clear_fixed'], label = \"Fixed Phase\")\n",
    "plt.plot(df['vehicle per hour'], df['fuzzy_proportion_clear_time'], label = \"Proportion Logic\")\n",
    "plt.xticks(df['vehicle per hour'])\n",
    "plt.xlabel('Number of vehicle')\n",
    "plt.ylabel('Seconds')\n",
    "plt.title('Clear Time')\n",
    "plt.grid()\n",
    "plt.legend()\n",
    "plt.show()"
   ]
  },
  {
   "cell_type": "code",
   "execution_count": null,
   "metadata": {},
   "outputs": [],
   "source": [
    "df = pd.read_csv('./saint_paul/1.0hour/result.csv')\n",
    "\n",
    "plt.plot(df['Vehicle Per Hour'], df['waiting_fixed']/df['Vehicle Per Hour']/60, label = \"Fixed Phase\")\n",
    "plt.plot(df['Vehicle Per Hour'], df['fuzzy_logic_num_halting_waiting']/df['Vehicle Per Hour']/60, label = \"Waiting time\")\n",
    "plt.plot(df['Vehicle Per Hour'], df['fuzzy_logic_proportion_waiting']/df['Vehicle Per Hour']/60, label = \"Queue\")\n",
    "plt.xticks(df['Vehicle Per Hour'])\n",
    "plt.xlabel('Number of vehicle')\n",
    "plt.ylabel('minutes')\n",
    "plt.title('Average Waiting Time Per Car')\n",
    "plt.grid()\n",
    "plt.legend()\n",
    "plt.show()"
   ]
  },
  {
   "cell_type": "code",
   "execution_count": null,
   "metadata": {},
   "outputs": [],
   "source": [
    "plt.plot(df['Vehicle Per Hour'], df['clear_fixed'], label = \"Fixed Phase\")\n",
    "plt.plot(df['Vehicle Per Hour'], df['queue_4000_clear_predict'], label = \"Queue\")\n",
    "plt.plot(df['Vehicle Per Hour'], df['diff-waiting-time_4000_clear_predict'], label = \"Waiting time\")\n",
    "plt.xticks(df['Vehicle Per Hour'])\n",
    "plt.xlabel('Number of vehicle')\n",
    "plt.ylabel('Minutes')\n",
    "plt.title('Clear Time in Each Simulation')\n",
    "plt.grid()\n",
    "plt.legend()\n",
    "plt.show()"
   ]
  },
  {
   "cell_type": "code",
   "execution_count": null,
   "metadata": {},
   "outputs": [],
   "source": [
    "plt.plot(df['Vehicle Per Hour'], df['waiting_fixed']/df['Vehicle Per Hour']/60, label = \"Fixed Phase\")\n",
    "plt.plot(df['Vehicle Per Hour'], df['diff-waiting-time_4000_waiting_predict']/df['Vehicle Per Hour']/60, label = \"Predicted Model reward as waiting time\")\n",
    "plt.xticks(df['Vehicle Per Hour'])\n",
    "plt.xlabel('Number of vehicle')\n",
    "plt.ylabel('Minutes')\n",
    "plt.title('Average Waiting Time for Each Car')\n",
    "plt.grid()\n",
    "plt.legend()\n",
    "plt.show()"
   ]
  },
  {
   "cell_type": "code",
   "execution_count": null,
   "metadata": {},
   "outputs": [],
   "source": [
    "plt.plot(df['Vehicle Per Hour'], df['clear_fixed']/60, label = \"Fixed Phase\")\n",
    "plt.plot(df['Vehicle Per Hour'], df['diff-waiting-time_4000_clear_predict']/60, label = \"Predicted Model reward as waiting time\")\n",
    "plt.xticks(df['Vehicle Per Hour'])\n",
    "plt.xlabel('Number of vehicle')\n",
    "plt.ylabel('Minutes')\n",
    "plt.title('Clear Time for Each Simulation')\n",
    "plt.grid()\n",
    "plt.legend()\n",
    "plt.show()"
   ]
  },
  {
   "cell_type": "code",
   "execution_count": null,
   "metadata": {},
   "outputs": [],
   "source": []
  }
 ],
 "metadata": {
  "kernelspec": {
   "display_name": "Python 3",
   "language": "python",
   "name": "python3"
  },
  "language_info": {
   "codemirror_mode": {
    "name": "ipython",
    "version": 3
   },
   "file_extension": ".py",
   "mimetype": "text/x-python",
   "name": "python",
   "nbconvert_exporter": "python",
   "pygments_lexer": "ipython3",
   "version": "3.11.7"
  }
 },
 "nbformat": 4,
 "nbformat_minor": 2
}
