{
 "cells": [
  {
   "cell_type": "code",
   "execution_count": null,
   "metadata": {},
   "outputs": [],
   "source": [
    "from sumo_deeprl import SumoDeepRl\n",
    "import os\n",
    "import traci\n",
    "from stable_baselines3.dqn.dqn import DQN"
   ]
  },
  {
   "cell_type": "markdown",
   "metadata": {},
   "source": [
    "### Init Sumo-DeepRl class"
   ]
  },
  {
   "cell_type": "code",
   "execution_count": null,
   "metadata": {},
   "outputs": [],
   "source": [
    "junction = 'simple_2_intersection'\n",
    "reward = 'diff-waiting-time'\n",
    "sim_time='0.5hour'\n",
    "vphs = [2000, 2500, 3000, 3500, 4000]"
   ]
  },
  {
   "cell_type": "code",
   "execution_count": null,
   "metadata": {},
   "outputs": [],
   "source": [
    "sumo = SumoDeepRl(junction_name=junction)"
   ]
  },
  {
   "cell_type": "markdown",
   "metadata": {},
   "source": [
    "### Generate Trips (optional)"
   ]
  },
  {
   "cell_type": "code",
   "execution_count": null,
   "metadata": {},
   "outputs": [],
   "source": [
    "route_details = {'n': ['-E1', 2], \n",
    "                 's': ['-E3', 3],\n",
    "                 'e': ['E0', 4],\n",
    "                 'w': ['-E2', 3]}\n",
    "\n",
    "for cars in [2000, 2500, 3000, 3500, 4000]:\n",
    "  sumo.create_routes(route_details=route_details, time=1800, total_cars=cars)"
   ]
  },
  {
   "cell_type": "markdown",
   "metadata": {},
   "source": [
    "### Simulation"
   ]
  },
  {
   "cell_type": "code",
   "execution_count": null,
   "metadata": {},
   "outputs": [],
   "source": [
    "# sumo.simulation(sim_time=sim_time,route_file='3000.rou.xml', useGui=False)\n",
    "sumo.analyze_fixed(sim_time=sim_time,vphs=vphs, useGui=False)"
   ]
  },
  {
   "cell_type": "code",
   "execution_count": null,
   "metadata": {},
   "outputs": [],
   "source": [
    "traci.close()"
   ]
  },
  {
   "cell_type": "markdown",
   "metadata": {},
   "source": [
    "### Model"
   ]
  },
  {
   "cell_type": "code",
   "execution_count": null,
   "metadata": {},
   "outputs": [],
   "source": [
    "\"\"\"\n",
    "reward_fns = {\n",
    "  \"diff-waiting-time\": _diff_waiting_time_reward, # sum waiting time(t) - sum waiting time(t+1)\n",
    "  \"average-speed\": _average_speed_reward, # average speed of every car\n",
    "  \"queue\": _queue_reward, # -1 * total number of halting cars\n",
    "  \"pressure\": _pressure_reward, # Returns the pressure (#veh leaving - #veh approaching) of the intersection.\n",
    "}\n",
    "\"\"\"\n",
    "\n",
    "train_num_veh = '3000'\n",
    "\n",
    "env = sumo.create_environment(sim_time=sim_time,route_file=f'{train_num_veh}.rou.xml', num_seconds=2000,yellow_time=5, reward_fn=reward)"
   ]
  },
  {
   "cell_type": "code",
   "execution_count": null,
   "metadata": {},
   "outputs": [],
   "source": [
    "model = DQN(\n",
    "  env=env,\n",
    "  policy=\"MlpPolicy\",\n",
    "  learning_starts=0,\n",
    "  train_freq=1,\n",
    "  exploration_initial_eps=0.05,\n",
    "  exploration_final_eps=0.01,\n",
    "  verbose=1\n",
    ")"
   ]
  },
  {
   "cell_type": "code",
   "execution_count": null,
   "metadata": {},
   "outputs": [],
   "source": [
    "total_timesteps = 10000\n",
    "model.learn(total_timesteps=total_timesteps, reset_num_timesteps=False)\n",
    "\n",
    "\n",
    "out_dir = f\"{junction}/{sim_time}/model/{reward}\"\n",
    "if not os.path.exists(out_dir):\n",
    "  os.makedirs(out_dir)\n",
    "fullname = os.path.join(out_dir, train_num_veh)   \n",
    "model.save(fullname)\n",
    "env.close()"
   ]
  },
  {
   "cell_type": "markdown",
   "metadata": {},
   "source": [
    "### Result from model"
   ]
  },
  {
   "cell_type": "code",
   "execution_count": null,
   "metadata": {},
   "outputs": [],
   "source": [
    "train_model = DQN.load(f'{junction}/{sim_time}/model/{reward}/{train_num_veh}.zip', env=env)"
   ]
  },
  {
   "cell_type": "code",
   "execution_count": null,
   "metadata": {},
   "outputs": [],
   "source": [
    "sumo.predict(sim_time=sim_time,route_file='3000.rou.xml', model=train_model, useGui=True, yellow_time=5)\n",
    "sumo.analyze_predict(model=train_model, sim_time=sim_time, vphs=vphs, trained_number_veh=train_num_veh, reward=reward,yellow_time=5)"
   ]
  },
  {
   "cell_type": "markdown",
   "metadata": {},
   "source": [
    "## Saint Paul"
   ]
  },
  {
   "cell_type": "code",
   "execution_count": null,
   "metadata": {},
   "outputs": [],
   "source": [
    "junction = 'saint_paul'\n",
    "reward = 'diff-waiting-time'\n",
    "sim_time='1.0hour'\n",
    "vphs = [1000, 2000, 3000, 4000, 5000]"
   ]
  },
  {
   "cell_type": "code",
   "execution_count": null,
   "metadata": {},
   "outputs": [],
   "source": [
    "sumo = SumoDeepRl(junction_name=junction)"
   ]
  },
  {
   "cell_type": "code",
   "execution_count": null,
   "metadata": {},
   "outputs": [],
   "source": [
    "sumo.analyze_fixed(sim_time='1.0hour',vphs=[1000, 2000, 3000, 4000, 5000], useGui=False)"
   ]
  },
  {
   "cell_type": "code",
   "execution_count": null,
   "metadata": {},
   "outputs": [],
   "source": [
    "env = sumo.create_environment(sim_time=sim_time,route_file='3000.rou.xml',num_seconds=15000,yellow_time=5, reward_fn=reward)"
   ]
  },
  {
   "cell_type": "code",
   "execution_count": null,
   "metadata": {},
   "outputs": [],
   "source": [
    "train_model = DQN.load(f'{junction}/1.0hour/model/{reward}/3000.zip', env=env)"
   ]
  },
  {
   "cell_type": "code",
   "execution_count": null,
   "metadata": {},
   "outputs": [],
   "source": [
    "sumo.predict(sim_time=sim_time,route_file='3000.rou.xml', model=train_model, useGui=True, yellow_time=5)"
   ]
  },
  {
   "cell_type": "code",
   "execution_count": null,
   "metadata": {},
   "outputs": [],
   "source": [
    "traci.close()"
   ]
  },
  {
   "cell_type": "code",
   "execution_count": null,
   "metadata": {},
   "outputs": [],
   "source": [
    "sumo.analyze_predict(model=train_model,\n",
    "                     sim_time=sim_time,\n",
    "                     vphs=vphs,\n",
    "                     trained_number_veh='3000',\n",
    "                     reward=reward,\n",
    "                     yellow_time=5)"
   ]
  },
  {
   "cell_type": "code",
   "execution_count": null,
   "metadata": {},
   "outputs": [],
   "source": [
    "traci.close()"
   ]
  },
  {
   "cell_type": "code",
   "execution_count": null,
   "metadata": {},
   "outputs": [],
   "source": []
  }
 ],
 "metadata": {
  "kernelspec": {
   "display_name": "Python 3",
   "language": "python",
   "name": "python3"
  },
  "language_info": {
   "codemirror_mode": {
    "name": "ipython",
    "version": 3
   },
   "file_extension": ".py",
   "mimetype": "text/x-python",
   "name": "python",
   "nbconvert_exporter": "python",
   "pygments_lexer": "ipython3",
   "version": "3.11.5"
  }
 },
 "nbformat": 4,
 "nbformat_minor": 2
}
