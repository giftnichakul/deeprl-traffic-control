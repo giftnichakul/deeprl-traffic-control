{
 "cells": [
  {
   "cell_type": "markdown",
   "metadata": {},
   "source": [
    "# Import library"
   ]
  },
  {
   "cell_type": "code",
   "execution_count": 1,
   "metadata": {},
   "outputs": [],
   "source": [
    "import os\n",
    "import sys\n",
    "import traci\n",
    "from sumolib import checkBinary \n",
    "import pandas as pd\n",
    "import matplotlib.pyplot as plt\n",
    "\n",
    "if 'SUMO_HOME' in os.environ:\n",
    "  tools = os.path.join(os.environ['SUMO_HOME'], 'tools')\n",
    "  sys.path.append(tools)\n",
    "else:\n",
    "  sys.exit(\"please declare environment variable 'SUMO_HOME'\")"
   ]
  },
  {
   "cell_type": "markdown",
   "metadata": {},
   "source": [
    "# Set the variable\n",
    "Logic \n",
    "1. Number of vehicles in each lane - halting vehicle + non-halting\n",
    "2. Number of halting vehicles \n",
    "3. Propotion of vehicles and number of lane\n",
    "\n",
    "Index phases from Traffic light logic\n",
    "- North -> 0 (-E2, 66)\n",
    "- South -> 2 (-E0, 71)\n",
    "- West -> 4 (-E1, 45)\n",
    "- East -> 6 (-E3, 50)"
   ]
  },
  {
   "cell_type": "code",
   "execution_count": 2,
   "metadata": {},
   "outputs": [],
   "source": [
    "useGui = False\n",
    "logic = 4\n",
    "yellowTime = 4\n",
    "maxPercentProportion = 0.5\n",
    "cal_halting = 0.4\n",
    "maximum_green = 60\n",
    "# จำนวนรถที่รองรับได้ต่อเลน\n",
    "numCarExpected = 10\n",
    "vphs = [3000, 3500, 4000, 4500, 5000, 5500]\n",
    "# vphs = [3000]\n",
    "num_lane = [3, 4, 2, 2]\n",
    "edge_name = {0: '-E2', 1: '-E0', 2: '-E1', 3: '-E3'}\n",
    "\n",
    "standard_time = [66, 71, 45, 50] # north, south, west, east\n",
    "direction = ['N', 'S', 'W', 'E']"
   ]
  },
  {
   "cell_type": "code",
   "execution_count": 3,
   "metadata": {},
   "outputs": [],
   "source": [
    "if logic == 1:\n",
    "    name = 'num_veh'\n",
    "    graph = 'number of vehicles'\n",
    "elif logic == 2:\n",
    "    name = 'num_halting'\n",
    "    graph = 'number of halting vehicles'\n",
    "elif logic == 3:\n",
    "    name = 'proportion'\n",
    "    graph = 'proportion'"
   ]
  },
  {
   "cell_type": "markdown",
   "metadata": {},
   "source": [
    "# Function "
   ]
  },
  {
   "cell_type": "code",
   "execution_count": 4,
   "metadata": {},
   "outputs": [],
   "source": [
    "def getEdgeHaltingVehicles(edge):\n",
    "  return traci.edge.getLastStepHaltingNumber(edge)\n",
    "\n",
    "def getEdgeTotalVehicles(edge):\n",
    "  return traci.edge.getLastStepVehicleNumber(edge)\n",
    "\n",
    "def getEdgeWaitingTime(edge):\n",
    "  return traci.edge.getWaitingTime(edge)\n",
    "\n",
    "def getEdgeAccumulativeWaitingTime(edge):\n",
    "  # get all vehicles ID and then get accumulative waiting time for each car ID\n",
    "  return sum(traci.vehicle.getAccumulatedWaitingTime(vehicle) for vehicle in traci.edge.getLastStepVehicleIDs(edge))\n",
    "\n",
    "def getCarIdwithDir(carID_dir):\n",
    "  for i in traci.edge.getLastStepVehicleIDs('-E2'):\n",
    "    carID_dir['N'].add(i)\n",
    "  for i in traci.edge.getLastStepVehicleIDs('-E0'):\n",
    "    carID_dir['S'].add(i)\n",
    "  for i in traci.edge.getLastStepVehicleIDs('-E1'):\n",
    "    carID_dir['W'].add(i)\n",
    "  for i in traci.edge.getLastStepVehicleIDs('-E3'):\n",
    "    carID_dir['E'].add(i)\n",
    "\n",
    "def checkFirstCarArrive():\n",
    "  return len(traci.edge.getLastStepVehicleIDs('E2')) != 0 or len(traci.edge.getLastStepVehicleIDs('E1')) != 0 \\\n",
    "  or len(traci.edge.getLastStepVehicleIDs('E0')) != 0 or len(traci.edge.getLastStepVehicleIDs('E3')) != 0\n",
    " \n",
    "def totalVehicle(lanes: list):\n",
    "  numVehicleList = [traci.lane.getLastStepVehicleNumber(lane) for lane in lanes]\n",
    "  return sum(numVehicleList)\n",
    "\n",
    "def waiting_time_direction(carID_dir, waiting_time):\n",
    "  total_time_n = 0;total_time_s = 0\n",
    "  total_time_w = 0;total_time_e = 0\n",
    "  for carid in carID_dir['N']:\n",
    "    total_time_n += waiting_time[carid]\n",
    "  for carid in carID_dir['S']:\n",
    "    total_time_s += waiting_time[carid]\n",
    "  for carid in carID_dir['W']:\n",
    "    total_time_w += waiting_time[carid]\n",
    "  for carid in carID_dir['E']:\n",
    "    total_time_e += waiting_time[carid]\n",
    "\n",
    "  return total_time_n, total_time_s, total_time_w, total_time_e\n",
    "\n",
    "def checkLasttCarDepart():\n",
    "  return len(traci.edge.getLastStepVehicleIDs('-E2')) == 0 and len(traci.edge.getLastStepVehicleIDs('-E1')) == 0 \\\n",
    "  and len(traci.edge.getLastStepVehicleIDs('-E0')) == 0 and len(traci.edge.getLastStepVehicleIDs('-E3')) == 0"
   ]
  },
  {
   "cell_type": "markdown",
   "metadata": {},
   "source": [
    "## Variable explain"
   ]
  },
  {
   "cell_type": "code",
   "execution_count": 5,
   "metadata": {},
   "outputs": [],
   "source": [
    "# simulation_data: save time for each logic\n",
    "simulation_data = pd.DataFrame(columns=['Vehicles Per Hour', 'Accumulated Time', 'Clear Time'])\n",
    "'''\n",
    "total_cars_data : save number of each simulation\n",
    "- All Cars: show the number of cars at each time\n",
    "- Halting Cars: show the number of haling cars at each time\n",
    "    {\n",
    "        '1000': {\n",
    "            'All Cars': [], 'Halting Cars': []\n",
    "        }\n",
    "    }\n",
    "'''\n",
    "total_cars_data = {}\n",
    "\n",
    "'''\n",
    "traffic_control: save the traffic light time of each simulation\n",
    "    {\n",
    "        '1000': Dataframe of direction and time\n",
    "    }\n",
    "'''\n",
    "traffic_control = {}\n",
    "\n",
    "waiting_time_df = pd.DataFrame(columns=['Vehicles', 'North Waiting Time', 'South Waiting Time', \n",
    "                                        'East Waiting Time', 'West Waiting Time',\n",
    "                                        'Total North Car', 'Total South Car', 'Total East Car', 'Total West Car',\n",
    "                                        'Total Waiting Time', 'Clear Time'])"
   ]
  },
  {
   "cell_type": "markdown",
   "metadata": {},
   "source": [
    "# Experiment"
   ]
  },
  {
   "cell_type": "code",
   "execution_count": 6,
   "metadata": {},
   "outputs": [
    {
     "name": "stdout",
     "output_type": "stream",
     "text": [
      " Retrying in 1 seconds\n"
     ]
    },
    {
     "name": "stderr",
     "output_type": "stream",
     "text": [
      "Warning: Could not set locale to 'C'.\n",
      "Warning: Vehicle 'flow_ew.84' performs emergency braking on lane '-E3_1' with decel=9.00, wished=4.50, severity=1.00, time=2047.00.\n"
     ]
    },
    {
     "name": "stdout",
     "output_type": "stream",
     "text": [
      "Step #2000.00 (1ms ~= 1000.00*RT, ~297000.00UPS, TraCI: 8ms, vehicles TOT 1674 ACT 297 BUF\n",
      " 3000 101378.0 3843.0\n",
      "Step #3843.00 (0ms ?*RT. ?UPS, TraCI: 5ms, vehicles TOT 3006 ACT 95 BUF 0)                \n",
      " Retrying in 1 seconds\n"
     ]
    },
    {
     "name": "stderr",
     "output_type": "stream",
     "text": [
      "Warning: Could not set locale to 'C'.\n",
      "Warning: Vehicle 'flow_we.162' performs emergency braking on lane ':J0_15_0' with decel=9.00, wished=4.50, severity=1.00, time=3474.00.\n"
     ]
    },
    {
     "name": "stdout",
     "output_type": "stream",
     "text": [
      "Step #3500.00 (1ms ~= 1000.00*RT, ~411000.00UPS, TraCI: 10ms, vehicles TOT 3311 ACT 411 BU"
     ]
    },
    {
     "name": "stderr",
     "output_type": "stream",
     "text": [
      "Warning: Vehicle 'flow_we.167' performs emergency braking on lane ':J0_15_0' with decel=9.00, wished=4.50, severity=1.00, time=3500.00.\n"
     ]
    },
    {
     "name": "stdout",
     "output_type": "stream",
     "text": [
      "\n",
      " 3500 284242.0 3939.0\n",
      "Step #3939.00 (1ms ~= 1000.00*RT, ~101000.00UPS, TraCI: 7ms, vehicles TOT 3507 ACT 101 BUF\n",
      " Retrying in 1 seconds\n"
     ]
    },
    {
     "name": "stderr",
     "output_type": "stream",
     "text": [
      "Warning: Could not set locale to 'C'.\n",
      "Warning: Vehicle 'flow_es.2' performs emergency braking on lane '-E3_0' with decel=9.00, wished=4.50, severity=1.00, time=150.00.\n",
      "Warning: Vehicle 'flow_es.2' performs emergency stop at the end of lane '-E3_0' because of a red traffic light (decel=-12.17, offset=2.75), time=150.00.\n"
     ]
    },
    {
     "name": "stdout",
     "output_type": "stream",
     "text": [
      "Step #1400.00 (1ms ~= 1000.00*RT, ~520000.00UPS, TraCI: 13ms, vehicles TOT 1561 ACT 520 BU\r"
     ]
    },
    {
     "name": "stderr",
     "output_type": "stream",
     "text": [
      "Warning: Vehicle 'flow_we.72' performs emergency braking on lane ':J0_15_1' with decel=9.00, wished=4.50, severity=1.00, time=1446.00.\n"
     ]
    },
    {
     "name": "stdout",
     "output_type": "stream",
     "text": [
      "\n",
      " 4000 651080.0 4238.0\n",
      "Step #4238.00 (0ms ?*RT. ?UPS, TraCI: 4ms, vehicles TOT 4007 ACT 52 BUF 0)                \n",
      " Retrying in 1 seconds\n"
     ]
    },
    {
     "name": "stderr",
     "output_type": "stream",
     "text": [
      "Warning: Could not set locale to 'C'.\n",
      "Warning: Vehicle 'flow_we.51' performs emergency braking on lane ':J0_15_1' with decel=9.00, wished=4.50, severity=1.00, time=1133.00.\n"
     ]
    },
    {
     "name": "stdout",
     "output_type": "stream",
     "text": [
      "Step #1600.00 (1ms ~= 1000.00*RT, ~693000.00UPS, TraCI: 19ms, vehicles TOT 2007 ACT 693 BU\r"
     ]
    },
    {
     "name": "stderr",
     "output_type": "stream",
     "text": [
      "Warning: Vehicle 'flow_we.83' performs emergency braking on lane ':J0_15_1' with decel=9.00, wished=4.50, severity=1.00, time=1661.00.\n"
     ]
    },
    {
     "name": "stdout",
     "output_type": "stream",
     "text": [
      "Step #3100.00 (2ms ~= 500.00*RT, ~451500.00UPS, TraCI: 26ms, vehicles TOT 3884 ACT 903 BUF\r"
     ]
    },
    {
     "name": "stderr",
     "output_type": "stream",
     "text": [
      "Warning: Vehicle 'flow_we.159' performs emergency braking on lane '-E1_1' with decel=9.00, wished=4.50, severity=1.00, time=3151.00.\n"
     ]
    },
    {
     "name": "stdout",
     "output_type": "stream",
     "text": [
      "Step #3700.00 (2ms ~= 500.00*RT, ~447500.00UPS, TraCI: 23ms, vehicles TOT 4509 ACT 895 BUF\r"
     ]
    },
    {
     "name": "stderr",
     "output_type": "stream",
     "text": [
      "Warning: Vehicle 'flow_ew.182' performs emergency braking on lane '-E3_1' with decel=9.00, wished=4.50, severity=1.00, time=3739.00.\n"
     ]
    },
    {
     "name": "stdout",
     "output_type": "stream",
     "text": [
      "Step #4100.00 (1ms ~= 1000.00*RT, ~451000.00UPS, TraCI: 12ms, vehicles TOT 4509 ACT 451 BU\r"
     ]
    },
    {
     "name": "stderr",
     "output_type": "stream",
     "text": [
      "Warning: Vehicle 'flow_we.223' performs emergency braking on lane '-E1_1' with decel=9.00, wished=4.50, severity=1.00, time=4195.00.\n"
     ]
    },
    {
     "name": "stdout",
     "output_type": "stream",
     "text": [
      "Step #4300.00 (0ms ?*RT. ?UPS, TraCI: 9ms, vehicles TOT 4509 ACT 315 BUF 0)               \r"
     ]
    },
    {
     "name": "stderr",
     "output_type": "stream",
     "text": [
      "Warning: Vehicle 'flow_we.220' performs emergency braking on lane ':J0_15_0' with decel=9.00, wished=4.50, severity=1.00, time=4347.00.\n"
     ]
    },
    {
     "name": "stdout",
     "output_type": "stream",
     "text": [
      "\n",
      " 4500 1324567.0 4699.0\n",
      "Step #4699.00 (0ms ?*RT. ?UPS, TraCI: 3ms, vehicles TOT 4509 ACT 60 BUF 0)                \n",
      " Retrying in 1 seconds\n"
     ]
    },
    {
     "name": "stderr",
     "output_type": "stream",
     "text": [
      "Warning: Could not set locale to 'C'.\n",
      "Warning: Vehicle 'flow_es.2' performs emergency braking on lane '-E3_0' with decel=9.00, wished=4.50, severity=1.00, time=150.00.\n"
     ]
    },
    {
     "name": "stdout",
     "output_type": "stream",
     "text": [
      "Step #600.00 (1ms ~= 1000.00*RT, ~567000.00UPS, TraCI: 15ms, vehicles TOT 838 ACT 567 BUF \r"
     ]
    },
    {
     "name": "stderr",
     "output_type": "stream",
     "text": [
      "Warning: Vehicle 'flow_we.25' performs emergency braking on lane ':J0_15_1' with decel=9.00, wished=4.50, severity=1.00, time=639.00.\n"
     ]
    },
    {
     "name": "stdout",
     "output_type": "stream",
     "text": [
      "Step #2100.00 (2ms ~= 500.00*RT, ~493000.00UPS, TraCI: 30ms, vehicles TOT 2922 ACT 986 BUF\r"
     ]
    },
    {
     "name": "stderr",
     "output_type": "stream",
     "text": [
      "Warning: Vehicle 'flow_we.112' performs emergency braking on lane '-E1_1' with decel=9.00, wished=4.50, severity=1.00, time=2173.00.\n"
     ]
    },
    {
     "name": "stdout",
     "output_type": "stream",
     "text": [
      "Step #2600.00 (2ms ~= 500.00*RT, ~564500.00UPS, TraCI: 30ms, vehicles TOT 3617 ACT 1129 BU\r"
     ]
    },
    {
     "name": "stderr",
     "output_type": "stream",
     "text": [
      "Warning: Vehicle 'flow_we.138' performs emergency braking on lane ':J0_15_1' with decel=9.00, wished=4.50, severity=1.00, time=2676.00.\n"
     ]
    },
    {
     "name": "stdout",
     "output_type": "stream",
     "text": [
      "Step #3400.00 (2ms ~= 500.00*RT, ~682500.00UPS, TraCI: 35ms, vehicles TOT 4728 ACT 1365 BU\r"
     ]
    },
    {
     "name": "stderr",
     "output_type": "stream",
     "text": [
      "Warning: Vehicle 'flow_we.183' performs emergency braking on lane '-E1_1' with decel=9.00, wished=4.50, severity=1.00, time=3460.00.\n"
     ]
    },
    {
     "name": "stdout",
     "output_type": "stream",
     "text": [
      "Step #3900.00 (2ms ~= 500.00*RT, ~545500.00UPS, TraCI: 28ms, vehicles TOT 5005 ACT 1091 BU\r"
     ]
    },
    {
     "name": "stderr",
     "output_type": "stream",
     "text": [
      "Warning: Vehicle 'flow_we.214' performs emergency braking on lane '-E1_1' with decel=9.00, wished=4.50, severity=1.00, time=3982.00.\n"
     ]
    },
    {
     "name": "stdout",
     "output_type": "stream",
     "text": [
      "\n",
      " 5000 2278157.0 5240.0\n",
      "Step #5240.00 (0ms ?*RT. ?UPS, TraCI: 4ms, vehicles TOT 5005 ACT 26 BUF 0)                \n",
      " Retrying in 1 seconds\n"
     ]
    },
    {
     "name": "stderr",
     "output_type": "stream",
     "text": [
      "Warning: Could not set locale to 'C'.\n"
     ]
    },
    {
     "name": "stdout",
     "output_type": "stream",
     "text": [
      "Step #1400.00 (1ms ~= 1000.00*RT, ~975000.00UPS, TraCI: 27ms, vehicles TOT 2145 ACT 975 BU\r"
     ]
    },
    {
     "name": "stderr",
     "output_type": "stream",
     "text": [
      "Warning: Vehicle 'flow_we.80' performs emergency braking on lane ':J0_15_1' with decel=9.00, wished=4.50, severity=1.00, time=1460.00.\n"
     ]
    },
    {
     "name": "stdout",
     "output_type": "stream",
     "text": [
      "Step #1700.00 (2ms ~= 500.00*RT, ~554000.00UPS, TraCI: 28ms, vehicles TOT 2603 ACT 1108 BU\r"
     ]
    },
    {
     "name": "stderr",
     "output_type": "stream",
     "text": [
      "Warning: Vehicle 'flow_ew.80' performs emergency braking on lane '-E3_1' with decel=9.00, wished=4.50, severity=1.00, time=1756.00.\n",
      "Warning: Vehicle 'flow_we.98' performs emergency braking on lane ':J0_15_1' with decel=9.00, wished=4.50, severity=1.00, time=1937.00.\n"
     ]
    },
    {
     "name": "stdout",
     "output_type": "stream",
     "text": [
      "Step #2200.00 (2ms ~= 500.00*RT, ~653000.00UPS, TraCI: 34ms, vehicles TOT 3367 ACT 1306 BU\r"
     ]
    },
    {
     "name": "stderr",
     "output_type": "stream",
     "text": [
      "Warning: Vehicle 'flow_we.114' performs emergency braking on lane ':J0_15_0' with decel=9.00, wished=4.50, severity=1.00, time=2216.00.\n"
     ]
    },
    {
     "name": "stdout",
     "output_type": "stream",
     "text": [
      "Step #4700.00 (1ms ~= 1000.00*RT, ~749000.00UPS, TraCI: 15ms, vehicles TOT 5505 ACT 749 BU\r"
     ]
    },
    {
     "name": "stderr",
     "output_type": "stream",
     "text": [
      "Warning: Vehicle 'flow_we.268' performs emergency braking on lane ':J0_15_1' with decel=9.00, wished=4.50, severity=1.00, time=4791.00.\n"
     ]
    },
    {
     "name": "stdout",
     "output_type": "stream",
     "text": [
      "\n",
      " 5500 3365429.0 5746.0\n",
      "Step #5746.00 (0ms ?*RT. ?UPS, TraCI: 15ms, vehicles TOT 5505 ACT 29 BUF 0)               \n"
     ]
    }
   ],
   "source": [
    "for i in vphs:\n",
    "  net_file = './saint_paul/junction.net.xml'\n",
    "  route_path = f'./saint_paul/1.0hour/trips/{i}.rou.xml'\n",
    "  # route_path = './saint_paul/1.0hour/trips/real_world.rou.xml'\n",
    "\n",
    "  if(useGui): sumoBinary = checkBinary('sumo-gui')\n",
    "  else: sumoBinary = checkBinary('sumo')\n",
    "  sumoCmd = [sumoBinary, \"-n\", net_file, \"-r\", route_path, \"--quit-on-end\", \"--waiting-time-memory\", '10000', '--time-to-teleport', '-1']\n",
    "\n",
    "  traci.start(sumoCmd)\n",
    "\n",
    "  trafficLightId = traci.trafficlight.getIDList()[0]\n",
    "  allLanes = list(dict.fromkeys(traci.trafficlight.getControlledLanes(trafficLightId))) # remove duplicate\n",
    "  allPhases = traci.trafficlight.getAllProgramLogics(trafficLightId)[0].phases\n",
    "  \n",
    "  switchTime = 0\n",
    "  # current phase = 3 start with N\n",
    "  currentPhase = 3\n",
    "  yellowPhase = True\n",
    "  latest_time = [66, 71, 45, 50]\n",
    "\n",
    "  waiting_time = {}\n",
    "  carID_dir = {'N': set(), 'S': set(), 'E': set(), 'W': set()}\n",
    "  halting_cars = []\n",
    "  all_car_in_sim = []\n",
    "  proportion_lane = [1, 1, 1, 1]\n",
    "  traffic_time = []\n",
    "  firstTimeArrive = 0\n",
    "  isArrive = False \n",
    "\n",
    "  while traci.simulation.getMinExpectedNumber() > 0:\n",
    "    traci.simulationStep()\n",
    "    currentTime = traci.simulation.getTime()\n",
    "\n",
    "    # start when the first car arrive at the junction\n",
    "    if not isArrive:\n",
    "      isArrive = checkFirstCarArrive()\n",
    "      firstTimeArrive = currentTime\n",
    "      continue\n",
    "\n",
    "    # find the next phases to open (yellow and green)\n",
    "    if currentTime >= switchTime:\n",
    "      # Swicth to green phase\n",
    "      if yellowPhase:\n",
    "        currentPhase = (currentPhase + 1) % 4\n",
    "        if logic == 1:\n",
    "          totalVehicles = getEdgeTotalVehicles(edge_name[currentPhase])\n",
    "          switchTime += int(min(max(15, totalVehicles * cal_halting / num_lane[currentPhase]), 120))\n",
    "        elif logic == 2:\n",
    "          totalHaltingVehicles = getEdgeHaltingVehicles(edge_name[currentPhase])\n",
    "          green_time = int(min(max(15, totalHaltingVehicles / (cal_halting * num_lane[currentPhase])), maximum_green))\n",
    "          # print(currentTime, direction[currentPhase], green_time)\n",
    "          switchTime += green_time\n",
    "\n",
    "          traffic_time.append([direction[currentPhase], green_time])\n",
    "        elif logic == 3:\n",
    "          realCars = getEdgeHaltingVehicles(edge_name[currentPhase])\n",
    "\n",
    "          if realCars == 0:\n",
    "            green_time = 15\n",
    "          else:\n",
    "            expectedCars = num_lane[currentPhase] * numCarExpected\n",
    "            current_proportion = realCars/expectedCars \n",
    "            \n",
    "            proportion_lane[currentPhase] = current_proportion\n",
    "            avg_proportion = sum(proportion_lane)/4 if sum(proportion_lane) != 0 else 1\n",
    "\n",
    "            current_based = current_proportion - 1\n",
    "            overall_based = current_proportion/avg_proportion - 1\n",
    "\n",
    "            green_time = int(standard_time[currentPhase] * (1 + max(min(current_based + overall_based, maxPercentProportion), -maxPercentProportion)))\n",
    "\n",
    "          switchTime += green_time\n",
    "          traffic_time.append([direction[currentPhase], green_time])\n",
    "\n",
    "          \n",
    "        elif logic == 4:\n",
    "          realCars = getEdgeHaltingVehicles(edge_name[currentPhase])\n",
    "\n",
    "          if realCars == 0: green_time = 15\n",
    "          else:\n",
    "            expectedCars = num_lane[currentPhase] * numCarExpected\n",
    "            current_proportion = realCars/expectedCars \n",
    "            \n",
    "            proportion_lane[currentPhase] = current_proportion\n",
    "            avg_proportion = sum(proportion_lane)/4 if sum(proportion_lane) != 0 else 1\n",
    "\n",
    "            current_based = current_proportion - 1\n",
    "            overall_based = current_proportion/avg_proportion - 1\n",
    "            \n",
    "            green_time = int(latest_time[currentPhase] * (1 + max(min(current_based + overall_based, maxPercentProportion), -maxPercentProportion)))\n",
    "            green_time = max(green_time, 15)\n",
    "            green_time = min(green_time, maximum_green)\n",
    "\n",
    "            # print(current_based, overall_based)\n",
    "          latest_time[currentPhase] = green_time\n",
    "         \n",
    "          switchTime += green_time\n",
    "          traffic_time.append([direction[currentPhase], green_time])\n",
    "        \n",
    "        yellowPhase = False\n",
    "        traci.trafficlight.setRedYellowGreenState(trafficLightId, allPhases[currentPhase*2].state)\n",
    "      # Swicth to yellow phase before switch to green phase\n",
    "      else:\n",
    "        traci.trafficlight.setRedYellowGreenState(trafficLightId, allPhases[currentPhase*2 + 1].state)\n",
    "        switchTime += yellowTime\n",
    "        yellowPhase = True\n",
    "\n",
    "    if checkLasttCarDepart():\n",
    "      total_clear_time = currentTime\n",
    "      break\n",
    "    vehicles = traci.vehicle.getIDList()\n",
    "    getCarIdwithDir(carID_dir)\n",
    "    all_car_in_sim.append(len(vehicles))\n",
    "    halting_cars.append(sum(getEdgeHaltingVehicles(edge) for edge in edge_name.values()))\n",
    "    \n",
    "    for vehicle in vehicles:\n",
    "      vehicle_waiting_time = traci.vehicle.getAccumulatedWaitingTime(vehicle)\n",
    "      if(vehicle not in waiting_time):\n",
    "        waiting_time[vehicle] = vehicle_waiting_time\n",
    "      else:\n",
    "        waiting_time[vehicle] = max(vehicle_waiting_time, waiting_time[vehicle])\n",
    "\n",
    " \n",
    "  wt_n, wt_s, wt_w, wt_e = waiting_time_direction(carID_dir=carID_dir, waiting_time=waiting_time)\n",
    "  total_waiting_time = wt_n + wt_s + wt_w + wt_e\n",
    "  carID_dir\n",
    "  waiting_time_df.loc[len(waiting_time_df.index)] = [i, wt_n, wt_s, wt_e, wt_w, \n",
    "                                                     len(carID_dir['N']),len(carID_dir['S']),len(carID_dir['E']),len(carID_dir['W']),\n",
    "                                                     total_waiting_time, total_clear_time]  \n",
    "  \n",
    "  total_cars_data[i] = {'All Cars': all_car_in_sim, 'Halting Cars': halting_cars}\n",
    "  traffic_control[i] = pd.DataFrame(traffic_time, columns=['Direction', 'Time'])\n",
    "  simulation_data.loc[len(simulation_data.index)] = [i, total_waiting_time, total_clear_time-firstTimeArrive]  \n",
    "\n",
    "  print('\\n', i, total_waiting_time, total_clear_time)\n",
    "    \n",
    "  traci.close()"
   ]
  },
  {
   "cell_type": "code",
   "execution_count": 7,
   "metadata": {},
   "outputs": [
    {
     "data": {
      "text/plain": [
       "5503"
      ]
     },
     "execution_count": 7,
     "metadata": {},
     "output_type": "execute_result"
    }
   ],
   "source": [
    "sum([len(carID_dir['N']), len(carID_dir['S']), len(carID_dir['W']), len(carID_dir['E'])])"
   ]
  },
  {
   "cell_type": "code",
   "execution_count": 8,
   "metadata": {},
   "outputs": [
    {
     "data": {
      "text/html": [
       "<div>\n",
       "<style scoped>\n",
       "    .dataframe tbody tr th:only-of-type {\n",
       "        vertical-align: middle;\n",
       "    }\n",
       "\n",
       "    .dataframe tbody tr th {\n",
       "        vertical-align: top;\n",
       "    }\n",
       "\n",
       "    .dataframe thead th {\n",
       "        text-align: right;\n",
       "    }\n",
       "</style>\n",
       "<table border=\"1\" class=\"dataframe\">\n",
       "  <thead>\n",
       "    <tr style=\"text-align: right;\">\n",
       "      <th></th>\n",
       "      <th>Vehicles</th>\n",
       "      <th>North Waiting Time</th>\n",
       "      <th>South Waiting Time</th>\n",
       "      <th>East Waiting Time</th>\n",
       "      <th>West Waiting Time</th>\n",
       "      <th>Total North Car</th>\n",
       "      <th>Total South Car</th>\n",
       "      <th>Total East Car</th>\n",
       "      <th>Total West Car</th>\n",
       "      <th>Total Waiting Time</th>\n",
       "      <th>Clear Time</th>\n",
       "    </tr>\n",
       "  </thead>\n",
       "  <tbody>\n",
       "    <tr>\n",
       "      <th>0</th>\n",
       "      <td>3000</td>\n",
       "      <td>28310.0</td>\n",
       "      <td>25078.0</td>\n",
       "      <td>25572.0</td>\n",
       "      <td>22418.0</td>\n",
       "      <td>860.0</td>\n",
       "      <td>910.0</td>\n",
       "      <td>650.0</td>\n",
       "      <td>585.0</td>\n",
       "      <td>101378.0</td>\n",
       "      <td>3843.0</td>\n",
       "    </tr>\n",
       "    <tr>\n",
       "      <th>1</th>\n",
       "      <td>3500</td>\n",
       "      <td>82246.0</td>\n",
       "      <td>85689.0</td>\n",
       "      <td>67037.0</td>\n",
       "      <td>49270.0</td>\n",
       "      <td>1001.0</td>\n",
       "      <td>1063.0</td>\n",
       "      <td>758.0</td>\n",
       "      <td>684.0</td>\n",
       "      <td>284242.0</td>\n",
       "      <td>3939.0</td>\n",
       "    </tr>\n",
       "    <tr>\n",
       "      <th>2</th>\n",
       "      <td>4000</td>\n",
       "      <td>108451.0</td>\n",
       "      <td>192159.0</td>\n",
       "      <td>230474.0</td>\n",
       "      <td>119996.0</td>\n",
       "      <td>1144.0</td>\n",
       "      <td>1213.0</td>\n",
       "      <td>869.0</td>\n",
       "      <td>779.0</td>\n",
       "      <td>651080.0</td>\n",
       "      <td>4238.0</td>\n",
       "    </tr>\n",
       "    <tr>\n",
       "      <th>3</th>\n",
       "      <td>4500</td>\n",
       "      <td>221458.0</td>\n",
       "      <td>315049.0</td>\n",
       "      <td>455502.0</td>\n",
       "      <td>332558.0</td>\n",
       "      <td>1289.0</td>\n",
       "      <td>1363.0</td>\n",
       "      <td>976.0</td>\n",
       "      <td>879.0</td>\n",
       "      <td>1324567.0</td>\n",
       "      <td>4699.0</td>\n",
       "    </tr>\n",
       "    <tr>\n",
       "      <th>4</th>\n",
       "      <td>5000</td>\n",
       "      <td>479582.0</td>\n",
       "      <td>518001.0</td>\n",
       "      <td>775421.0</td>\n",
       "      <td>505153.0</td>\n",
       "      <td>1430.0</td>\n",
       "      <td>1513.0</td>\n",
       "      <td>1083.0</td>\n",
       "      <td>977.0</td>\n",
       "      <td>2278157.0</td>\n",
       "      <td>5240.0</td>\n",
       "    </tr>\n",
       "    <tr>\n",
       "      <th>5</th>\n",
       "      <td>5500</td>\n",
       "      <td>844982.0</td>\n",
       "      <td>705833.0</td>\n",
       "      <td>1120329.0</td>\n",
       "      <td>694285.0</td>\n",
       "      <td>1573.0</td>\n",
       "      <td>1666.0</td>\n",
       "      <td>1192.0</td>\n",
       "      <td>1072.0</td>\n",
       "      <td>3365429.0</td>\n",
       "      <td>5746.0</td>\n",
       "    </tr>\n",
       "  </tbody>\n",
       "</table>\n",
       "</div>"
      ],
      "text/plain": [
       "   Vehicles  North Waiting Time  South Waiting Time  East Waiting Time  \\\n",
       "0      3000             28310.0             25078.0            25572.0   \n",
       "1      3500             82246.0             85689.0            67037.0   \n",
       "2      4000            108451.0            192159.0           230474.0   \n",
       "3      4500            221458.0            315049.0           455502.0   \n",
       "4      5000            479582.0            518001.0           775421.0   \n",
       "5      5500            844982.0            705833.0          1120329.0   \n",
       "\n",
       "   West Waiting Time  Total North Car  Total South Car  Total East Car  \\\n",
       "0            22418.0            860.0            910.0           650.0   \n",
       "1            49270.0           1001.0           1063.0           758.0   \n",
       "2           119996.0           1144.0           1213.0           869.0   \n",
       "3           332558.0           1289.0           1363.0           976.0   \n",
       "4           505153.0           1430.0           1513.0          1083.0   \n",
       "5           694285.0           1573.0           1666.0          1192.0   \n",
       "\n",
       "   Total West Car  Total Waiting Time  Clear Time  \n",
       "0           585.0            101378.0      3843.0  \n",
       "1           684.0            284242.0      3939.0  \n",
       "2           779.0            651080.0      4238.0  \n",
       "3           879.0           1324567.0      4699.0  \n",
       "4           977.0           2278157.0      5240.0  \n",
       "5          1072.0           3365429.0      5746.0  "
      ]
     },
     "execution_count": 8,
     "metadata": {},
     "output_type": "execute_result"
    }
   ],
   "source": [
    "waiting_time_df['Vehicles'] = waiting_time_df['Vehicles'].astype('int')\n",
    "waiting_time_df"
   ]
  },
  {
   "cell_type": "markdown",
   "metadata": {},
   "source": [
    "# Save Results"
   ]
  },
  {
   "cell_type": "code",
   "execution_count": 9,
   "metadata": {},
   "outputs": [],
   "source": [
    "# waiting_time_df.to_csv(f'./saint_paul/1.0hour/proportion_latest_0.5_10.csv', index=False)"
   ]
  },
  {
   "cell_type": "markdown",
   "metadata": {},
   "source": [
    "# Plot graph"
   ]
  },
  {
   "cell_type": "markdown",
   "metadata": {},
   "source": [
    "### Plot Average Waiting Time per Car"
   ]
  },
  {
   "cell_type": "code",
   "execution_count": 10,
   "metadata": {},
   "outputs": [
    {
     "data": {
      "text/html": [
       "<div>\n",
       "<style scoped>\n",
       "    .dataframe tbody tr th:only-of-type {\n",
       "        vertical-align: middle;\n",
       "    }\n",
       "\n",
       "    .dataframe tbody tr th {\n",
       "        vertical-align: top;\n",
       "    }\n",
       "\n",
       "    .dataframe thead th {\n",
       "        text-align: right;\n",
       "    }\n",
       "</style>\n",
       "<table border=\"1\" class=\"dataframe\">\n",
       "  <thead>\n",
       "    <tr style=\"text-align: right;\">\n",
       "      <th></th>\n",
       "      <th>Vehicles</th>\n",
       "      <th>North Waiting Time</th>\n",
       "      <th>South Waiting Time</th>\n",
       "      <th>East Waiting Time</th>\n",
       "      <th>West Waiting Time</th>\n",
       "      <th>Total North Car</th>\n",
       "      <th>Total South Car</th>\n",
       "      <th>Total East Car</th>\n",
       "      <th>Total West Car</th>\n",
       "      <th>Total Waiting Time</th>\n",
       "      <th>Clear Time</th>\n",
       "      <th>Average North Waiting Time</th>\n",
       "      <th>Average South Waiting Time</th>\n",
       "      <th>Average East Waiting Time</th>\n",
       "      <th>Average West Waiting Time</th>\n",
       "      <th>Average Total Waiting Time</th>\n",
       "    </tr>\n",
       "  </thead>\n",
       "  <tbody>\n",
       "    <tr>\n",
       "      <th>0</th>\n",
       "      <td>3000</td>\n",
       "      <td>28310.0</td>\n",
       "      <td>25078.0</td>\n",
       "      <td>25572.0</td>\n",
       "      <td>22418.0</td>\n",
       "      <td>860.0</td>\n",
       "      <td>910.0</td>\n",
       "      <td>650.0</td>\n",
       "      <td>585.0</td>\n",
       "      <td>101378.0</td>\n",
       "      <td>3843.0</td>\n",
       "      <td>0.548643</td>\n",
       "      <td>0.459304</td>\n",
       "      <td>0.655692</td>\n",
       "      <td>0.638689</td>\n",
       "      <td>0.562274</td>\n",
       "    </tr>\n",
       "    <tr>\n",
       "      <th>1</th>\n",
       "      <td>3500</td>\n",
       "      <td>112968.0</td>\n",
       "      <td>125283.0</td>\n",
       "      <td>86398.0</td>\n",
       "      <td>78463.0</td>\n",
       "      <td>1001.0</td>\n",
       "      <td>1063.0</td>\n",
       "      <td>758.0</td>\n",
       "      <td>684.0</td>\n",
       "      <td>403112.0</td>\n",
       "      <td>4076.0</td>\n",
       "      <td>1.880919</td>\n",
       "      <td>1.964299</td>\n",
       "      <td>1.899692</td>\n",
       "      <td>1.911866</td>\n",
       "      <td>1.916296</td>\n",
       "    </tr>\n",
       "    <tr>\n",
       "      <th>2</th>\n",
       "      <td>4000</td>\n",
       "      <td>162038.0</td>\n",
       "      <td>319609.0</td>\n",
       "      <td>193898.0</td>\n",
       "      <td>115213.0</td>\n",
       "      <td>1144.0</td>\n",
       "      <td>1213.0</td>\n",
       "      <td>869.0</td>\n",
       "      <td>779.0</td>\n",
       "      <td>790758.0</td>\n",
       "      <td>4228.0</td>\n",
       "      <td>2.360693</td>\n",
       "      <td>4.391440</td>\n",
       "      <td>3.718796</td>\n",
       "      <td>2.464976</td>\n",
       "      <td>3.290712</td>\n",
       "    </tr>\n",
       "    <tr>\n",
       "      <th>3</th>\n",
       "      <td>4500</td>\n",
       "      <td>233060.0</td>\n",
       "      <td>487943.0</td>\n",
       "      <td>380056.0</td>\n",
       "      <td>299415.0</td>\n",
       "      <td>1289.0</td>\n",
       "      <td>1363.0</td>\n",
       "      <td>976.0</td>\n",
       "      <td>879.0</td>\n",
       "      <td>1400474.0</td>\n",
       "      <td>4574.0</td>\n",
       "      <td>3.013447</td>\n",
       "      <td>5.966532</td>\n",
       "      <td>6.490027</td>\n",
       "      <td>5.677190</td>\n",
       "      <td>5.178885</td>\n",
       "    </tr>\n",
       "    <tr>\n",
       "      <th>4</th>\n",
       "      <td>5000</td>\n",
       "      <td>378684.0</td>\n",
       "      <td>691024.0</td>\n",
       "      <td>658497.0</td>\n",
       "      <td>432980.0</td>\n",
       "      <td>1430.0</td>\n",
       "      <td>1513.0</td>\n",
       "      <td>1083.0</td>\n",
       "      <td>977.0</td>\n",
       "      <td>2161185.0</td>\n",
       "      <td>5090.0</td>\n",
       "      <td>4.413566</td>\n",
       "      <td>7.612073</td>\n",
       "      <td>10.133841</td>\n",
       "      <td>7.386216</td>\n",
       "      <td>7.199630</td>\n",
       "    </tr>\n",
       "    <tr>\n",
       "      <th>5</th>\n",
       "      <td>5500</td>\n",
       "      <td>801501.0</td>\n",
       "      <td>891992.0</td>\n",
       "      <td>1081068.0</td>\n",
       "      <td>549204.0</td>\n",
       "      <td>1573.0</td>\n",
       "      <td>1666.0</td>\n",
       "      <td>1192.0</td>\n",
       "      <td>1072.0</td>\n",
       "      <td>3323765.0</td>\n",
       "      <td>5503.0</td>\n",
       "      <td>8.492276</td>\n",
       "      <td>8.923489</td>\n",
       "      <td>15.115604</td>\n",
       "      <td>8.538619</td>\n",
       "      <td>10.066524</td>\n",
       "    </tr>\n",
       "  </tbody>\n",
       "</table>\n",
       "</div>"
      ],
      "text/plain": [
       "   Vehicles  North Waiting Time  South Waiting Time  East Waiting Time  \\\n",
       "0      3000             28310.0             25078.0            25572.0   \n",
       "1      3500            112968.0            125283.0            86398.0   \n",
       "2      4000            162038.0            319609.0           193898.0   \n",
       "3      4500            233060.0            487943.0           380056.0   \n",
       "4      5000            378684.0            691024.0           658497.0   \n",
       "5      5500            801501.0            891992.0          1081068.0   \n",
       "\n",
       "   West Waiting Time  Total North Car  Total South Car  Total East Car  \\\n",
       "0            22418.0            860.0            910.0           650.0   \n",
       "1            78463.0           1001.0           1063.0           758.0   \n",
       "2           115213.0           1144.0           1213.0           869.0   \n",
       "3           299415.0           1289.0           1363.0           976.0   \n",
       "4           432980.0           1430.0           1513.0          1083.0   \n",
       "5           549204.0           1573.0           1666.0          1192.0   \n",
       "\n",
       "   Total West Car  Total Waiting Time  Clear Time  Average North Waiting Time  \\\n",
       "0           585.0            101378.0      3843.0                    0.548643   \n",
       "1           684.0            403112.0      4076.0                    1.880919   \n",
       "2           779.0            790758.0      4228.0                    2.360693   \n",
       "3           879.0           1400474.0      4574.0                    3.013447   \n",
       "4           977.0           2161185.0      5090.0                    4.413566   \n",
       "5          1072.0           3323765.0      5503.0                    8.492276   \n",
       "\n",
       "   Average South Waiting Time  Average East Waiting Time  \\\n",
       "0                    0.459304                   0.655692   \n",
       "1                    1.964299                   1.899692   \n",
       "2                    4.391440                   3.718796   \n",
       "3                    5.966532                   6.490027   \n",
       "4                    7.612073                  10.133841   \n",
       "5                    8.923489                  15.115604   \n",
       "\n",
       "   Average West Waiting Time  Average Total Waiting Time  \n",
       "0                   0.638689                    0.562274  \n",
       "1                   1.911866                    1.916296  \n",
       "2                   2.464976                    3.290712  \n",
       "3                   5.677190                    5.178885  \n",
       "4                   7.386216                    7.199630  \n",
       "5                   8.538619                   10.066524  "
      ]
     },
     "execution_count": 10,
     "metadata": {},
     "output_type": "execute_result"
    }
   ],
   "source": [
    "total_car = waiting_time_df['Total North Car'] + waiting_time_df['Total South Car']  + waiting_time_df['Total East Car']+ waiting_time_df['Total West Car']\n",
    "waiting_time_df['Average North Waiting Time'] = waiting_time_df['North Waiting Time']/waiting_time_df['Total North Car']/60\n",
    "waiting_time_df['Average South Waiting Time'] = waiting_time_df['South Waiting Time']/waiting_time_df['Total South Car']/60\n",
    "waiting_time_df['Average East Waiting Time'] = waiting_time_df['East Waiting Time']/waiting_time_df['Total East Car']/60\n",
    "waiting_time_df['Average West Waiting Time'] = waiting_time_df['West Waiting Time']/waiting_time_df['Total West Car']/60\n",
    "waiting_time_df['Average Total Waiting Time'] = waiting_time_df['Total Waiting Time']/total_car/60\n",
    "waiting_time_df"
   ]
  },
  {
   "cell_type": "code",
   "execution_count": 11,
   "metadata": {},
   "outputs": [],
   "source": [
    "wait_df = waiting_time_df[['Vehicles', 'Average North Waiting Time', 'Average South Waiting Time', 'Average East Waiting Time', 'Average West Waiting Time', 'Average Total Waiting Time']]"
   ]
  },
  {
   "cell_type": "code",
   "execution_count": 12,
   "metadata": {},
   "outputs": [
    {
     "data": {
      "text/plain": [
       "Text(0, 0.5, 'minutes')"
      ]
     },
     "execution_count": 12,
     "metadata": {},
     "output_type": "execute_result"
    },
    {
     "data": {
      "image/png": "[encoded data removed]",
      "text/plain": [
       "<Figure size 640x480 with 1 Axes>"
      ]
     },
     "metadata": {},
     "output_type": "display_data"
    }
   ],
   "source": [
    "ax = wait_df.plot(x='Vehicles', \n",
    "            kind='bar', \n",
    "            stacked=False, \n",
    "            title=f'Average Waiting Time for Each Car',\n",
    "            width=0.6,\n",
    "            # figsize=(12,5)\n",
    ")\n",
    "ax.set_xticklabels(wait_df['Vehicles'].astype(int), rotation=0)\n",
    "plt.ylabel('minutes')"
   ]
  },
  {
   "cell_type": "markdown",
   "metadata": {},
   "source": [
    "### Plot clear time"
   ]
  },
  {
   "cell_type": "code",
   "execution_count": null,
   "metadata": {},
   "outputs": [],
   "source": [
    "waiting_time_df"
   ]
  },
  {
   "cell_type": "code",
   "execution_count": null,
   "metadata": {},
   "outputs": [],
   "source": [
    "clear_time = waiting_time_df[['Vehicles', 'Clear Time']]\n",
    "clear_time['Clear Time'] = clear_time['Clear Time']/60 - 60\n",
    "# ax = clear_time.plot(x='Vehicles',  \n",
    "#             stacked=False, \n",
    "#             title=f'Average Waiting Time for Each Car',\n",
    "#             # figsize=(12,5)\n",
    "# )\n",
    "clear_time.plot(x='Vehicles', y='Clear Time')"
   ]
  },
  {
   "cell_type": "markdown",
   "metadata": {},
   "source": [
    "### Number of cars"
   ]
  },
  {
   "cell_type": "code",
   "execution_count": null,
   "metadata": {},
   "outputs": [],
   "source": [
    "num = 4000\n",
    "clearTime = int(list(simulation_data.loc[simulation_data['Vehicles Per Hour']==num, 'Clear Time'])[0])\n",
    "\n",
    "number_of_cars = total_cars_data[num]['Halting Cars'][:clearTime]\n",
    "time = [t for t in range(len(number_of_cars))]\n",
    "\n",
    "plt.subplots(figsize=(12, 3))\n",
    "plt.bar(time, number_of_cars)\n",
    "plt.title(f'Number of halting Cars in {num} situation')\n",
    "plt.xlabel('time (seconds)')\n",
    "plt.ylabel('number of cars')\n",
    "plt.grid()\n",
    "plt.show()"
   ]
  },
  {
   "cell_type": "markdown",
   "metadata": {},
   "source": [
    "### Green Time"
   ]
  },
  {
   "cell_type": "code",
   "execution_count": 22,
   "metadata": {},
   "outputs": [
    {
     "data": {
      "text/plain": [
       "[]"
      ]
     },
     "execution_count": 22,
     "metadata": {},
     "output_type": "execute_result"
    },
    {
     "data": {
      "image/png": "[encoded data removed]",
      "text/plain": [
       "<Figure size 1200x500 with 1 Axes>"
      ]
     },
     "metadata": {},
     "output_type": "display_data"
    }
   ],
   "source": [
    "import matplotlib.pyplot as plt\n",
    "\n",
    "num = 5000\n",
    "\n",
    "time = traffic_control[num]['Time']\n",
    "direction = traffic_control[num]['Direction']\n",
    "\n",
    "num_phase = int(len(direction) / 4)\n",
    "last_phase = len(direction) % 4\n",
    "\n",
    "direction_phase = list(direction[:4])\n",
    "\n",
    "traffic_phase = {}\n",
    "for d in range(len(direction_phase)):\n",
    "    traffic_phase[direction_phase[d]] = list(time[d:num_phase*4:4])\n",
    "\n",
    "df = pd.DataFrame(traffic_phase)\n",
    "df['Cycle'] = df.index + 1\n",
    "df = df[['Cycle'] + list(df.columns[:-1].values)]\n",
    "\n",
    "ax = df.plot(x='Cycle', \n",
    "        kind='bar', \n",
    "        stacked=False, \n",
    "        title=f'Green Time for Each Cycle Halting Number for {num} Vehicles',\n",
    "        width=0.6,\n",
    "        figsize=(12,5)\n",
    "        ) \n",
    "ax.set_xticklabels(df['Cycle'], rotation=0)\n",
    "ax.plot()"
   ]
  },
  {
   "cell_type": "code",
   "execution_count": 23,
   "metadata": {},
   "outputs": [
    {
     "data": {
      "text/html": [
       "<div>\n",
       "<style scoped>\n",
       "    .dataframe tbody tr th:only-of-type {\n",
       "        vertical-align: middle;\n",
       "    }\n",
       "\n",
       "    .dataframe tbody tr th {\n",
       "        vertical-align: top;\n",
       "    }\n",
       "\n",
       "    .dataframe thead th {\n",
       "        text-align: right;\n",
       "    }\n",
       "</style>\n",
       "<table border=\"1\" class=\"dataframe\">\n",
       "  <thead>\n",
       "    <tr style=\"text-align: right;\">\n",
       "      <th></th>\n",
       "      <th>Cycle</th>\n",
       "      <th>N</th>\n",
       "      <th>S</th>\n",
       "      <th>W</th>\n",
       "      <th>E</th>\n",
       "      <th>Total</th>\n",
       "    </tr>\n",
       "  </thead>\n",
       "  <tbody>\n",
       "    <tr>\n",
       "      <th>0</th>\n",
       "      <td>1</td>\n",
       "      <td>15</td>\n",
       "      <td>15</td>\n",
       "      <td>22</td>\n",
       "      <td>25</td>\n",
       "      <td>77</td>\n",
       "    </tr>\n",
       "    <tr>\n",
       "      <th>1</th>\n",
       "      <td>2</td>\n",
       "      <td>15</td>\n",
       "      <td>15</td>\n",
       "      <td>15</td>\n",
       "      <td>15</td>\n",
       "      <td>60</td>\n",
       "    </tr>\n",
       "    <tr>\n",
       "      <th>2</th>\n",
       "      <td>3</td>\n",
       "      <td>15</td>\n",
       "      <td>17</td>\n",
       "      <td>22</td>\n",
       "      <td>22</td>\n",
       "      <td>76</td>\n",
       "    </tr>\n",
       "    <tr>\n",
       "      <th>3</th>\n",
       "      <td>4</td>\n",
       "      <td>22</td>\n",
       "      <td>15</td>\n",
       "      <td>26</td>\n",
       "      <td>33</td>\n",
       "      <td>96</td>\n",
       "    </tr>\n",
       "    <tr>\n",
       "      <th>4</th>\n",
       "      <td>5</td>\n",
       "      <td>33</td>\n",
       "      <td>22</td>\n",
       "      <td>39</td>\n",
       "      <td>49</td>\n",
       "      <td>143</td>\n",
       "    </tr>\n",
       "    <tr>\n",
       "      <th>5</th>\n",
       "      <td>6</td>\n",
       "      <td>49</td>\n",
       "      <td>33</td>\n",
       "      <td>58</td>\n",
       "      <td>73</td>\n",
       "      <td>213</td>\n",
       "    </tr>\n",
       "    <tr>\n",
       "      <th>6</th>\n",
       "      <td>7</td>\n",
       "      <td>73</td>\n",
       "      <td>49</td>\n",
       "      <td>87</td>\n",
       "      <td>109</td>\n",
       "      <td>318</td>\n",
       "    </tr>\n",
       "    <tr>\n",
       "      <th>7</th>\n",
       "      <td>8</td>\n",
       "      <td>109</td>\n",
       "      <td>73</td>\n",
       "      <td>120</td>\n",
       "      <td>120</td>\n",
       "      <td>422</td>\n",
       "    </tr>\n",
       "    <tr>\n",
       "      <th>8</th>\n",
       "      <td>9</td>\n",
       "      <td>120</td>\n",
       "      <td>109</td>\n",
       "      <td>120</td>\n",
       "      <td>120</td>\n",
       "      <td>469</td>\n",
       "    </tr>\n",
       "    <tr>\n",
       "      <th>9</th>\n",
       "      <td>10</td>\n",
       "      <td>120</td>\n",
       "      <td>120</td>\n",
       "      <td>120</td>\n",
       "      <td>120</td>\n",
       "      <td>480</td>\n",
       "    </tr>\n",
       "    <tr>\n",
       "      <th>10</th>\n",
       "      <td>11</td>\n",
       "      <td>120</td>\n",
       "      <td>120</td>\n",
       "      <td>120</td>\n",
       "      <td>120</td>\n",
       "      <td>480</td>\n",
       "    </tr>\n",
       "    <tr>\n",
       "      <th>11</th>\n",
       "      <td>12</td>\n",
       "      <td>120</td>\n",
       "      <td>120</td>\n",
       "      <td>120</td>\n",
       "      <td>120</td>\n",
       "      <td>480</td>\n",
       "    </tr>\n",
       "    <tr>\n",
       "      <th>12</th>\n",
       "      <td>13</td>\n",
       "      <td>120</td>\n",
       "      <td>120</td>\n",
       "      <td>120</td>\n",
       "      <td>120</td>\n",
       "      <td>480</td>\n",
       "    </tr>\n",
       "    <tr>\n",
       "      <th>13</th>\n",
       "      <td>14</td>\n",
       "      <td>120</td>\n",
       "      <td>120</td>\n",
       "      <td>120</td>\n",
       "      <td>120</td>\n",
       "      <td>480</td>\n",
       "    </tr>\n",
       "    <tr>\n",
       "      <th>14</th>\n",
       "      <td>15</td>\n",
       "      <td>60</td>\n",
       "      <td>120</td>\n",
       "      <td>120</td>\n",
       "      <td>120</td>\n",
       "      <td>420</td>\n",
       "    </tr>\n",
       "    <tr>\n",
       "      <th>15</th>\n",
       "      <td>16</td>\n",
       "      <td>15</td>\n",
       "      <td>60</td>\n",
       "      <td>15</td>\n",
       "      <td>120</td>\n",
       "      <td>210</td>\n",
       "    </tr>\n",
       "  </tbody>\n",
       "</table>\n",
       "</div>"
      ],
      "text/plain": [
       "    Cycle    N    S    W    E  Total\n",
       "0       1   15   15   22   25     77\n",
       "1       2   15   15   15   15     60\n",
       "2       3   15   17   22   22     76\n",
       "3       4   22   15   26   33     96\n",
       "4       5   33   22   39   49    143\n",
       "5       6   49   33   58   73    213\n",
       "6       7   73   49   87  109    318\n",
       "7       8  109   73  120  120    422\n",
       "8       9  120  109  120  120    469\n",
       "9      10  120  120  120  120    480\n",
       "10     11  120  120  120  120    480\n",
       "11     12  120  120  120  120    480\n",
       "12     13  120  120  120  120    480\n",
       "13     14  120  120  120  120    480\n",
       "14     15   60  120  120  120    420\n",
       "15     16   15   60   15  120    210"
      ]
     },
     "execution_count": 23,
     "metadata": {},
     "output_type": "execute_result"
    }
   ],
   "source": [
    "df['Total'] = df['N'] + df['S'] + df['W'] + df['E']\n",
    "df"
   ]
  },
  {
   "cell_type": "code",
   "execution_count": 24,
   "metadata": {},
   "outputs": [
    {
     "data": {
      "text/plain": [
       "306.5"
      ]
     },
     "execution_count": 24,
     "metadata": {},
     "output_type": "execute_result"
    }
   ],
   "source": [
    "sum(df['Total'])/df.shape[0]"
   ]
  },
  {
   "cell_type": "markdown",
   "metadata": {},
   "source": [
    "## Waiting Time plot Graph"
   ]
  },
  {
   "cell_type": "code",
   "execution_count": null,
   "metadata": {},
   "outputs": [],
   "source": []
  }
 ],
 "metadata": {
  "kernelspec": {
   "display_name": "Python 3",
   "language": "python",
   "name": "python3"
  },
  "language_info": {
   "codemirror_mode": {
    "name": "ipython",
    "version": 3
   },
   "file_extension": ".py",
   "mimetype": "text/x-python",
   "name": "python",
   "nbconvert_exporter": "python",
   "pygments_lexer": "ipython3",
   "version": "3.11.7"
  }
 },
 "nbformat": 4,
 "nbformat_minor": 2
}
