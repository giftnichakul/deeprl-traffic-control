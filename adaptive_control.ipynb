{
 "cells": [
  {
   "cell_type": "markdown",
   "metadata": {},
   "source": [
    "# Import library"
   ]
  },
  {
   "cell_type": "code",
   "execution_count": 1,
   "metadata": {},
   "outputs": [],
   "source": [
    "import os\n",
    "import sys\n",
    "import traci\n",
    "from sumolib import checkBinary \n",
    "import pandas as pd\n",
    "import matplotlib.pyplot as plt\n",
    "\n",
    "if 'SUMO_HOME' in os.environ:\n",
    "  tools = os.path.join(os.environ['SUMO_HOME'], 'tools')\n",
    "  sys.path.append(tools)\n",
    "else:\n",
    "  sys.exit(\"please declare environment variable 'SUMO_HOME'\")"
   ]
  },
  {
   "cell_type": "markdown",
   "metadata": {},
   "source": [
    "# Set the variable\n",
    "Logic \n",
    "1. Number of vehicles in each lane - halting vehicle + non-halting\n",
    "2. Number of halting vehicles \n",
    "3. Propotion of vehicles and number of lane\n",
    "\n",
    "Index phases from Traffic light logic\n",
    "- North -> 0 (-E2, 66)\n",
    "- South -> 2 (-E0, 71)\n",
    "- West -> 4 (-E1, 45)\n",
    "- East -> 6 (-E3, 50)"
   ]
  },
  {
   "cell_type": "code",
   "execution_count": 2,
   "metadata": {},
   "outputs": [],
   "source": [
    "useGui = False\n",
    "logic = 2\n",
    "yellowTime = 5\n",
    "percentProportion = 0.5\n",
    "maxPercentProportion = 0.5\n",
    "vphs = [1000, 2000, 3000, 3500, 4000, 4500,5000]\n",
    "#vphs = [3000, 3500, 4000, 4500, 5000]\n",
    "vphs = [5000]\n",
    "num_lane = [3, 4, 2, 2]\n",
    "edge_name = {0: '-E2', 1: '-E0', 2: '-E1', 3: '-E3'}\n",
    "standard_time = [66, 71, 45, 50] # north, south, west, east\n",
    "direction = ['N', 'S', 'W', 'E']"
   ]
  },
  {
   "cell_type": "code",
   "execution_count": 3,
   "metadata": {},
   "outputs": [],
   "source": [
    "if logic == 1:\n",
    "    name = 'num_veh'\n",
    "    graph = 'number of vehicles'\n",
    "elif logic == 2:\n",
    "    name = 'num_halting'\n",
    "    graph = 'number of halting vehicles'\n",
    "elif logic == 3:\n",
    "    name = 'proportion'\n",
    "    graph = 'proportion'"
   ]
  },
  {
   "cell_type": "markdown",
   "metadata": {},
   "source": [
    "# Function "
   ]
  },
  {
   "cell_type": "code",
   "execution_count": 4,
   "metadata": {},
   "outputs": [],
   "source": [
    "def getEdgeHaltingVehicles(edge):\n",
    "  return traci.edge.getLastStepHaltingNumber(edge)\n",
    "\n",
    "def getEdgeTotalVehicles(edge):\n",
    "  return traci.edge.getLastStepVehicleNumber(edge)\n",
    "\n",
    "def getEdgeWaitingTime(edge):\n",
    "  return traci.edge.getWaitingTime(edge)\n",
    "\n",
    "def getEdgeAccumulativeWaitingTime(edge):\n",
    "  # get all vehicles ID and then get accumulative waiting time for each car ID\n",
    "  return sum(traci.vehicle.getAccumulatedWaitingTime(vehicle) for vehicle in traci.edge.getLastStepVehicleIDs(edge))\n",
    " \n",
    "def totalVehicle(lanes: list):\n",
    "  numVehicleList = [traci.lane.getLastStepVehicleNumber(lane) for lane in lanes]\n",
    "  return sum(numVehicleList)"
   ]
  },
  {
   "cell_type": "markdown",
   "metadata": {},
   "source": [
    "# Experiment"
   ]
  },
  {
   "cell_type": "code",
   "execution_count": 5,
   "metadata": {},
   "outputs": [
    {
     "name": "stdout",
     "output_type": "stream",
     "text": [
      " Retrying in 1 seconds\n"
     ]
    },
    {
     "name": "stderr",
     "output_type": "stream",
     "text": [
      "Warning: Could not set locale to 'C'.\n",
      "Warning: Vehicle 'flow_ew.19' performs emergency braking on lane ':J0_6_1' with decel=9.00, wished=4.50, severity=1.00, time=497.00.\n"
     ]
    },
    {
     "name": "stdout",
     "output_type": "stream",
     "text": [
      "Step #1900.00 (1ms ~= 1000.00*RT, ~978000.00UPS, TraCI: 25ms, vehicles TOT 2646 ACT 978 BU\r"
     ]
    },
    {
     "name": "stderr",
     "output_type": "stream",
     "text": [
      "Warning: Vehicle 'flow_we.76' performs emergency braking on lane '-E1_1' with decel=9.00, wished=4.50, severity=1.00, time=1937.00.\n"
     ]
    },
    {
     "name": "stdout",
     "output_type": "stream",
     "text": [
      "Step #2600.00 (2ms ~= 500.00*RT, ~570500.00UPS, TraCI: 29ms, vehicles TOT 3618 ACT 1141 BU\r"
     ]
    },
    {
     "name": "stderr",
     "output_type": "stream",
     "text": [
      "Warning: Vehicle 'flow_we.105' performs emergency braking on lane ':J0_15_1' with decel=9.00, wished=4.50, severity=1.00, time=2684.00.\n"
     ]
    },
    {
     "name": "stdout",
     "output_type": "stream",
     "text": [
      "Step #2700.00 (2ms ~= 500.00*RT, ~601500.00UPS, TraCI: 30ms, vehicles TOT 3759 ACT 1203 BU\r"
     ]
    },
    {
     "name": "stderr",
     "output_type": "stream",
     "text": [
      "Warning: Vehicle 'flow_we.111' performs emergency braking on lane ':J0_15_1' with decel=9.00, wished=4.50, severity=1.00, time=2705.00.\n"
     ]
    },
    {
     "name": "stdout",
     "output_type": "stream",
     "text": [
      "Step #2900.00 (1ms ~= 1000.00*RT, ~1251000.00UPS, TraCI: 32ms, vehicles TOT 4034 ACT 1251 \r"
     ]
    },
    {
     "name": "stderr",
     "output_type": "stream",
     "text": [
      "Warning: Vehicle 'flow_we.113' performs emergency braking on lane ':J0_15_1' with decel=9.00, wished=4.50, severity=1.00, time=2928.00.\n"
     ]
    },
    {
     "name": "stdout",
     "output_type": "stream",
     "text": [
      "Step #3900.00 (3ms ~= 333.33*RT, ~370000.00UPS, TraCI: 25ms, vehicles TOT 5009 ACT 1110 BU\r"
     ]
    },
    {
     "name": "stderr",
     "output_type": "stream",
     "text": [
      "Warning: Vehicle 'flow_ew.152' performs emergency braking on lane ':J0_6_0' with decel=9.00, wished=4.50, severity=1.00, time=3989.00.\n"
     ]
    },
    {
     "name": "stdout",
     "output_type": "stream",
     "text": [
      "Step #4900.00 (1ms ~= 1000.00*RT, ~594000.00UPS, TraCI: 15ms, vehicles TOT 5009 ACT 594 BU\r"
     ]
    },
    {
     "name": "stderr",
     "output_type": "stream",
     "text": [
      "Warning: Vehicle 'flow_we.208' performs emergency braking on lane ':J0_15_1' with decel=9.00, wished=4.50, severity=1.00, time=4980.00.\n"
     ]
    },
    {
     "name": "stdout",
     "output_type": "stream",
     "text": [
      "\n",
      " 5000 2900416.0 6981.0\n",
      "Step #6981.00 (0ms ?*RT. ?UPS, TraCI: 5ms, vehicles TOT 5009 ACT 0 BUF 0)                 \n"
     ]
    }
   ],
   "source": [
    "simulation_data = pd.DataFrame(columns=['Vehicles Per Hour', 'Accumulated Time', 'Clear Time'])\n",
    "total_cars_data = {}\n",
    "traffic_control = {}\n",
    "\n",
    "for i in vphs:\n",
    "  net_file = './saint_paul/junction.net.xml'\n",
    "  route_path = f'./saint_paul/1.0hour/trips/{i}.rou.xml'\n",
    "  #route_path = './saint_paul/1.0hour/trips/real_world.rou.xml'\n",
    "\n",
    "  if(useGui): sumoBinary = checkBinary('sumo-gui')\n",
    "  else: sumoBinary = checkBinary('sumo')\n",
    "  sumoCmd = [sumoBinary, \"-n\", net_file, \"-r\", route_path, \"--quit-on-end\", \"--waiting-time-memory\", '10000', '--time-to-teleport', '-1']\n",
    "\n",
    "  traci.start(sumoCmd)\n",
    "\n",
    "  trafficLightId = traci.trafficlight.getIDList()[0]\n",
    "  allLanes = list(dict.fromkeys(traci.trafficlight.getControlledLanes(trafficLightId))) # remove duplicate\n",
    "  allPhases = traci.trafficlight.getAllProgramLogics(trafficLightId)[0].phases\n",
    "  \n",
    "  switchTime = 0\n",
    "  currentPhase = 0\n",
    "  yellowPhase = False\n",
    "  latest_time = [0, 0, 0, 0]\n",
    "\n",
    "  waiting_time = {}\n",
    "  halting_cars = []\n",
    "  all_car_in_sim = []\n",
    "  proportion_lane = [1, 1, 1, 1]\n",
    "  time = []\n",
    "  traffic_time = []\n",
    "\n",
    "  while traci.simulation.getMinExpectedNumber() > 0:\n",
    "    traci.simulationStep()\n",
    "    currentTime = traci.simulation.getTime()\n",
    "    #find the next phases to open (yellow and green)\n",
    "    if currentTime >= switchTime:\n",
    "      # Swicth to green phase\n",
    "      if yellowPhase:\n",
    "        currentPhase = (currentPhase + 1) % 4\n",
    "        if logic == 1:\n",
    "          totalVehicles = getEdgeTotalVehicles(edge_name[currentPhase])\n",
    "          switchTime += int(min(max(15, totalVehicles / (0.45 * num_lane[currentPhase])), 120))\n",
    "        elif logic == 2:\n",
    "          totalHaltingVehicles = getEdgeHaltingVehicles(edge_name[currentPhase])\n",
    "          green_time = int(min(max(15, totalHaltingVehicles / (0.45 * num_lane[currentPhase])), 120))\n",
    "          switchTime += green_time\n",
    "\n",
    "          traffic_time.append([direction[currentPhase], green_time])\n",
    "        elif logic == 3:\n",
    "          realCars = getEdgeHaltingVehicles(edge_name[currentPhase])\n",
    "          expectedCars = num_lane[currentPhase] * 50\n",
    "          current_proportion = realCars/expectedCars\n",
    "          \n",
    "          proportion_lane[currentPhase] = current_proportion\n",
    "          avg_proportion = sum(proportion_lane)/4 if sum(proportion_lane) != 0 else 1\n",
    "\n",
    "          current_based = int(min(current_proportion*percentProportion*standard_time[currentPhase], maxPercentProportion*standard_time[currentPhase]))\n",
    "          current_based = current_based if realCars > expectedCars else -1*current_based\n",
    "          overall_based = int(min(current_proportion/avg_proportion*percentProportion*standard_time[currentPhase], maxPercentProportion*standard_time[currentPhase]))\n",
    "          overall_based = overall_based if current_proportion > avg_proportion else -1*current_based\n",
    "\n",
    "          green_time = standard_time[currentPhase] + current_based + overall_based\n",
    "          switchTime += green_time\n",
    "          traffic_time.append([direction[currentPhase], green_time])\n",
    "        \n",
    "        yellowPhase = False\n",
    "        traci.trafficlight.setRedYellowGreenState(trafficLightId, allPhases[currentPhase*2].state)\n",
    "      # Swicth to yellow phase before switch to green phase\n",
    "      else:\n",
    "        traci.trafficlight.setRedYellowGreenState(trafficLightId, allPhases[currentPhase*2 + 1].state)\n",
    "        switchTime += yellowTime\n",
    "        yellowPhase = True\n",
    "\n",
    "    vehicles = traci.vehicle.getIDList()\n",
    "\n",
    "    all_car_in_sim.append(len(vehicles))\n",
    "    halting_cars.append(sum(getEdgeHaltingVehicles(edge) for edge in edge_name.values()))\n",
    "    \n",
    "    for vehicle in vehicles:\n",
    "      vehicle_waiting_time = traci.vehicle.getAccumulatedWaitingTime(vehicle)\n",
    "      if(vehicle not in waiting_time):\n",
    "        waiting_time[vehicle] = vehicle_waiting_time\n",
    "      else:\n",
    "        waiting_time[vehicle] = max(vehicle_waiting_time, waiting_time[vehicle])\n",
    "    total_clear_time = currentTime\n",
    "\n",
    "  total_waiting_time = sum(waiting_time[vehicle] for vehicle in waiting_time)\n",
    "  total_cars_data[i] = {'All Cars': all_car_in_sim, 'Halting Cars': halting_cars}\n",
    "  traffic_control[i] = pd.DataFrame(traffic_time, columns=['Direction', 'Time'])\n",
    "  simulation_data.loc[len(simulation_data.index)] = [i, total_waiting_time, total_clear_time]  \n",
    "  print('\\n', i, total_waiting_time, total_clear_time)\n",
    "    \n",
    "  traci.close()"
   ]
  },
  {
   "cell_type": "markdown",
   "metadata": {},
   "source": [
    "# Save Results"
   ]
  },
  {
   "cell_type": "code",
   "execution_count": null,
   "metadata": {},
   "outputs": [],
   "source": [
    "result_path = './saint_paul/1.0hour/adaptive.csv'\n",
    "result = pd.read_csv(result_path)\n",
    "\n",
    "if logic == 2:\n",
    "    result[f'adaptive_logic_{name}_waiting'] = simulation_data['Accumulated Time']\n",
    "    result[f'adaptive_logic_{name}_clear'] = simulation_data['Clear Time']\n",
    "elif logic == 3:\n",
    "    result[f'adaptive_logic_{name}_{percentProportion}_waiting'] = simulation_data['Accumulated Time']\n",
    "    result[f'adaptive_logic_{name}_{percentProportion}_clear'] = simulation_data['Clear Time']\n",
    "\n",
    "result.to_csv(f'{result_path}', index=False)"
   ]
  },
  {
   "cell_type": "markdown",
   "metadata": {},
   "source": [
    "# Plot graph"
   ]
  },
  {
   "cell_type": "markdown",
   "metadata": {},
   "source": [
    "### Plot experiment"
   ]
  },
  {
   "cell_type": "code",
   "execution_count": null,
   "metadata": {},
   "outputs": [],
   "source": [
    "df = pd.read_csv('./saint_paul/1.0hour/adaptive.csv')\n",
    "\n",
    "plt.plot(simulation_data['Vehicles Per Hour'], df['waiting_fixed'] /simulation_data['Vehicles Per Hour']/60, label = \"Fixed Phase\")\n",
    "plt.plot(simulation_data['Vehicles Per Hour'], simulation_data['Accumulated Time']/simulation_data['Vehicles Per Hour']/60, label = f\"Adaptive Traffic Control Logic based on {graph}\")\n",
    "plt.xticks(df['Vehicles Per Hour'])\n",
    "plt.xlabel('Number of vehicle')\n",
    "plt.ylabel('Minutes')\n",
    "plt.title('Average Waiting Time Per Car')\n",
    "plt.grid()\n",
    "plt.legend()\n",
    "plt.show()"
   ]
  },
  {
   "cell_type": "code",
   "execution_count": null,
   "metadata": {},
   "outputs": [],
   "source": [
    "plt.plot(df['Vehicles Per Hour'], df['clear_fixed']/60, label = \"Fixed Phase\")\n",
    "plt.plot(df['Vehicles Per Hour'], df['adaptive_logic_num_halting_clear']/60, label = f\"Adaptive Control based on Number of Halting vehicles\")\n",
    "plt.xticks(simulation_data['Vehicles Per Hour'])\n",
    "plt.xlabel('Number of vehicle')\n",
    "plt.ylabel('Minutes')\n",
    "plt.title('Clear Time of Simulation')\n",
    "plt.grid()\n",
    "plt.legend()\n",
    "plt.show()"
   ]
  },
  {
   "cell_type": "code",
   "execution_count": null,
   "metadata": {},
   "outputs": [],
   "source": [
    "print(sum(df['waiting_fixed']/df['Vehicles Per Hour']/60)/7, sum(df['diff-waiting-time_4000_waiting']/df['Vehicles Per Hour']/60)/7)\n",
    "print(sum(df['waiting_fixed']/df['Vehicles Per Hour']/60)/7, sum(df['adaptive_logic_proportion_0.2_waiting']/df['Vehicles Per Hour']/60)/7)\n",
    "print(sum(df['waiting_fixed']/df['Vehicles Per Hour']/60)/7, sum(df['adaptive_logic_proportion_0.5_waiting']/df['Vehicles Per Hour']/60)/7)"
   ]
  },
  {
   "cell_type": "code",
   "execution_count": null,
   "metadata": {},
   "outputs": [],
   "source": [
    "\n",
    "print(sum(df['clear_fixed']/60)/7, sum(df['diff-waiting-time_4000_clear']/60)/7)\n",
    "print(sum(df['clear_fixed']/60)/7, sum(df['adaptive_logic_proportion_0.2_clear']/60)/7)\n",
    "print(sum(df['clear_fixed']/60)/7, sum(df['adaptive_logic_proportion_0.5_clear']/60)/7)"
   ]
  },
  {
   "cell_type": "code",
   "execution_count": null,
   "metadata": {},
   "outputs": [],
   "source": [
    "df = pd.read_csv('./saint_paul/1.0hour/adaptive.csv')\n",
    "\n",
    "plt.plot(df['Vehicles Per Hour'], df['clear_fixed']/60, label = \"Fixed Phase\")\n",
    "plt.plot(df['Vehicles Per Hour'], df['']/60, label = f\"Adaptive Control based on 0.1 proportion number\")\n",
    "plt.plot(df['Vehicles Per Hour'], df['adaptive_logic_proportion_0.2_waiting']/df['Vehicles Per Hour']/60, label = f\"Adaptive Control based on 0.2 proportion number\")\n",
    "plt.plot(df['Vehicles Per Hour'], df['adaptive_logic_proportion_0.5_waiting']/df['Vehicles Per Hour']/60, label = f\"Adaptive Control based on 0.5 proportion number\")\n",
    "#plt.plot(df['Vehicles Per Hour'], df['adaptive_logic_proportion_0.6_waiting']/df['Vehicles Per Hour']/60, label = f\"Adaptive Traffic Control Logic based on 0.6 proportion number\")\n",
    "plt.xticks(df['Vehicles Per Hour'])\n",
    "plt.xlabel('Number of vehicle')\n",
    "plt.ylabel('Minutes')\n",
    "plt.title('Average Waiting Time Per Car')\n",
    "plt.grid()\n",
    "plt.legend()\n",
    "plt.show()"
   ]
  },
  {
   "cell_type": "code",
   "execution_count": null,
   "metadata": {},
   "outputs": [],
   "source": [
    "sum(df['waiting_fixed']/df['Vehicles Per Hour']/60)/5, sum(simulation_data['Accumulated Time']/df['Vehicles Per Hour']/60)/5"
   ]
  },
  {
   "cell_type": "code",
   "execution_count": null,
   "metadata": {},
   "outputs": [],
   "source": [
    "simulation_data['Accumulated Time'], df['Vehicles Per Hour']"
   ]
  },
  {
   "cell_type": "code",
   "execution_count": null,
   "metadata": {},
   "outputs": [],
   "source": [
    "sum(df['clear_fixed']/60)/5, sum(simulation_data['Clear Time']/60)/5"
   ]
  },
  {
   "cell_type": "code",
   "execution_count": null,
   "metadata": {},
   "outputs": [],
   "source": [
    "plt.plot(df['Vehicles Per Hour'], df['clear_fixed']/60, label = \"Fixed Phase\")\n",
    "plt.plot(df['Vehicles Per Hour'], df['diff-waiting-time_4000_clear']/60, label = \"DQN by waiting time\")\n",
    "plt.plot(df['Vehicles Per Hour'], df['queue_4000_clear']/60, label = \"DQN by queue\")\n",
    "\n",
    "plt.xticks(df['Vehicles Per Hour'])\n",
    "plt.xlabel('Number of vehicle')\n",
    "plt.ylabel('Minutes')\n",
    "plt.title('Clear Time of Simulation')\n",
    "plt.grid()\n",
    "plt.legend()\n",
    "plt.show()"
   ]
  },
  {
   "cell_type": "markdown",
   "metadata": {},
   "source": [
    "### Number of cars"
   ]
  },
  {
   "cell_type": "code",
   "execution_count": 6,
   "metadata": {},
   "outputs": [
    {
     "data": {
      "image/png": "[encoded data removed]",
      "text/plain": [
       "<Figure size 1200x300 with 1 Axes>"
      ]
     },
     "metadata": {},
     "output_type": "display_data"
    }
   ],
   "source": [
    "num = 5000\n",
    "clearTime = int(list(simulation_data.loc[simulation_data['Vehicles Per Hour']==num, 'Clear Time'])[0])\n",
    "\n",
    "time = [t for t in range(clearTime)]\n",
    "number_of_cars = total_cars_data[num]['All Cars']\n",
    "\n",
    "plt.subplots(figsize=(12, 3))\n",
    "plt.bar(time, number_of_cars)\n",
    "plt.title(f'Number of Cars in {num} situation')\n",
    "plt.xlabel('time (seconds)')\n",
    "plt.ylabel('number of cars')\n",
    "plt.grid()\n",
    "plt.show()"
   ]
  },
  {
   "cell_type": "code",
   "execution_count": 7,
   "metadata": {},
   "outputs": [
    {
     "data": {
      "image/png": "[encoded data removed]",
      "text/plain": [
       "<Figure size 1200x300 with 1 Axes>"
      ]
     },
     "metadata": {},
     "output_type": "display_data"
    }
   ],
   "source": [
    "clearTime = int(list(simulation_data.loc[simulation_data['Vehicles Per Hour']==num, 'Clear Time'])[0])\n",
    "\n",
    "time = [t for t in range(clearTime)]\n",
    "number_of_cars = total_cars_data[num]['Halting Cars']\n",
    "\n",
    "plt.subplots(figsize=(12, 3))\n",
    "plt.bar(time, number_of_cars)\n",
    "plt.title(f'Number of halting Cars in {num} situation')\n",
    "plt.xlabel('time (seconds)')\n",
    "plt.ylabel('number of cars')\n",
    "plt.grid()\n",
    "plt.show()"
   ]
  },
  {
   "cell_type": "markdown",
   "metadata": {},
   "source": [
    "### Green Time"
   ]
  },
  {
   "cell_type": "code",
   "execution_count": null,
   "metadata": {},
   "outputs": [],
   "source": [
    "num = 5000\n",
    "clearTime = int(list(simulation_data.loc[simulation_data['Vehicles Per Hour']==num, 'Clear Time'])[0])\n",
    "\n",
    "trafficTime = traffic_control[num]['Time']\n",
    "time = [i for i in range(trafficTime.shape[0])]\n",
    "#phase = traffic_control[num]['Direction']\n",
    "\n",
    "\n",
    "plt.subplots(figsize=(12, 3))\n",
    "plt.bar(time, trafficTime)\n",
    "plt.title(f'Green Time in {num} situation')\n",
    "plt.xlabel('time (seconds)')\n",
    "plt.ylabel('number of cars')\n",
    "plt.grid()\n",
    "plt.show()"
   ]
  },
  {
   "cell_type": "code",
   "execution_count": null,
   "metadata": {},
   "outputs": [],
   "source": []
  }
 ],
 "metadata": {
  "kernelspec": {
   "display_name": "Python 3",
   "language": "python",
   "name": "python3"
  },
  "language_info": {
   "codemirror_mode": {
    "name": "ipython",
    "version": 3
   },
   "file_extension": ".py",
   "mimetype": "text/x-python",
   "name": "python",
   "nbconvert_exporter": "python",
   "pygments_lexer": "ipython3",
   "version": "3.11.7"
  }
 },
 "nbformat": 4,
 "nbformat_minor": 2
}
