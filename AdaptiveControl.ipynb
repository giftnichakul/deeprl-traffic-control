{
 "cells": [
  {
   "cell_type": "markdown",
   "metadata": {},
   "source": [
    "# Import Library"
   ]
  },
  {
   "cell_type": "code",
   "execution_count": 13,
   "metadata": {},
   "outputs": [],
   "source": [
    "import pandas as pd\n",
    "import random\n",
    "import time\n",
    "import matplotlib.pyplot as plt"
   ]
  },
  {
   "cell_type": "markdown",
   "metadata": {},
   "source": [
    "# Config the variable"
   ]
  },
  {
   "cell_type": "code",
   "execution_count": 11,
   "metadata": {},
   "outputs": [],
   "source": [
    "# define the direction\n",
    "direction = ['N', 'S', 'W', 'E']\n",
    "# define the initiate green time\n",
    "standard_time = [66, 71, 45, 50]\n",
    "edges_name = ['-E2', '-E0', '-E1', '-E3']\n",
    "# define the number of lane\n",
    "number_lanes = [3, 4, 2, 2]\n",
    "# define the yellow time\n",
    "yellowTime = 4\n",
    "# define the logic\n",
    "logic = 'halting' # halting, proportion\n",
    "\n",
    "# define the minimum, maximum green time\n",
    "min_green = 15\n",
    "max_green = 140"
   ]
  },
  {
   "cell_type": "code",
   "execution_count": 12,
   "metadata": {},
   "outputs": [],
   "source": [
    "def num_halting():\n",
    "    return [random.randrange(0, 100), random.randrange(0, 100), random.randrange(0, 100), random.randrange(0, 100)]\n",
    "\n",
    "def cal_halting(halting_number, number_lane):\n",
    "    return int(min(max(min_green, halting_number / (0.45 * number_lane)), max_green))\n",
    "\n",
    "def cal_proportion(halting_number, number_lane, number_expected, proportion_lanes):\n",
    "    expected_car = number_lane * number_expected\n",
    "    lane_proportion = halting_number / expected_car"
   ]
  },
  {
   "cell_type": "markdown",
   "metadata": {},
   "source": [
    "# Calculate the green time"
   ]
  },
  {
   "cell_type": "code",
   "execution_count": 13,
   "metadata": {},
   "outputs": [
    {
     "name": "stdout",
     "output_type": "stream",
     "text": [
      "Suggest time for direction N for 15\n",
      "Suggest time for direction S for 46\n"
     ]
    },
    {
     "ename": "KeyboardInterrupt",
     "evalue": "",
     "output_type": "error",
     "traceback": [
      "\u001b[0;31m---------------------------------------------------------------------------\u001b[0m",
      "\u001b[0;31mKeyboardInterrupt\u001b[0m                         Traceback (most recent call last)",
      "Cell \u001b[0;32mIn[13], line 13\u001b[0m\n\u001b[1;32m     11\u001b[0m halting_cars \u001b[38;5;241m=\u001b[39m num_halting()\n\u001b[1;32m     12\u001b[0m i\u001b[38;5;241m+\u001b[39m\u001b[38;5;241m=\u001b[39m\u001b[38;5;241m1\u001b[39m\n\u001b[0;32m---> 13\u001b[0m \u001b[43mtime\u001b[49m\u001b[38;5;241;43m.\u001b[39;49m\u001b[43msleep\u001b[49m\u001b[43m(\u001b[49m\u001b[43mgreen_time\u001b[49m\u001b[43m)\u001b[49m\n",
      "\u001b[0;31mKeyboardInterrupt\u001b[0m: "
     ]
    }
   ],
   "source": [
    "# the input is the number of halting number of each direction\n",
    "\n",
    "halting_cars = [0, 0, 0, 0]\n",
    "proportion_lanes = [1, 1, 1, 1]\n",
    "current_phase = 0\n",
    "i = 0\n",
    "while i < 20:\n",
    "    green_time = cal_halting(halting_cars[current_phase], number_lanes[current_phase])\n",
    "    print(f'Suggest time for direction {direction[current_phase]} for {green_time}')\n",
    "    \n",
    "    current_phase = (current_phase + 1) % len(direction)\n",
    "    halting_cars = num_halting()\n",
    "    i+=1\n",
    "    time.sleep(green_time - 1)"
   ]
  }
 ],
 "metadata": {
  "kernelspec": {
   "display_name": "Python 3",
   "language": "python",
   "name": "python3"
  },
  "language_info": {
   "codemirror_mode": {
    "name": "ipython",
    "version": 3
   },
   "file_extension": ".py",
   "mimetype": "text/x-python",
   "name": "python",
   "nbconvert_exporter": "python",
   "pygments_lexer": "ipython3",
   "version": "3.11.7"
  }
 },
 "nbformat": 4,
 "nbformat_minor": 2
}
